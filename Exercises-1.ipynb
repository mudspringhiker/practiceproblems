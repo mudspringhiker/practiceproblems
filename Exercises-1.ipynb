{
 "cells": [
  {
   "cell_type": "code",
   "execution_count": 1,
   "metadata": {
    "collapsed": false
   },
   "outputs": [],
   "source": [
    "%matplotlib inline\n",
    "import pandas as pd"
   ]
  },
  {
   "cell_type": "code",
   "execution_count": 2,
   "metadata": {
    "collapsed": false
   },
   "outputs": [
    {
     "data": {
      "text/html": [
       "<style>body {\n",
       "    margin: 0;\n",
       "    font-family: Helvetica;\n",
       "}\n",
       "table.dataframe {\n",
       "    border-collapse: collapse;\n",
       "    border: none;\n",
       "}\n",
       "table.dataframe tr {\n",
       "    border: none;\n",
       "}\n",
       "table.dataframe td, table.dataframe th {\n",
       "    margin: 0;\n",
       "    border: 1px solid white;\n",
       "    padding-left: 0.25em;\n",
       "    padding-right: 0.25em;\n",
       "}\n",
       "table.dataframe th:not(:empty) {\n",
       "    background-color: #fec;\n",
       "    text-align: left;\n",
       "    font-weight: normal;\n",
       "}\n",
       "table.dataframe tr:nth-child(2) th:empty {\n",
       "    border-left: none;\n",
       "    border-right: 1px dashed #888;\n",
       "}\n",
       "table.dataframe td {\n",
       "    border: 2px solid #ccf;\n",
       "    background-color: #f4f4ff;\n",
       "}\n",
       "h3 {\n",
       "    color: white;\n",
       "    background-color: black;\n",
       "    padding: 0.5em;\n",
       "}\n",
       "</style>"
      ],
      "text/plain": [
       "<IPython.core.display.HTML object>"
      ]
     },
     "execution_count": 2,
     "metadata": {},
     "output_type": "execute_result"
    }
   ],
   "source": [
    "# This code makes pandas dataframe look formatted (with colors, etc). Note: it uses a file 'style-notebook.css, etc.\n",
    "from IPython.core.display import HTML\n",
    "css = open('style-table.css').read() + open('style-notebook.css').read()\n",
    "HTML('<style>{}</style>'.format(css))"
   ]
  },
  {
   "cell_type": "code",
   "execution_count": 3,
   "metadata": {
    "collapsed": false
   },
   "outputs": [
    {
     "data": {
      "text/html": [
       "<div>\n",
       "<table border=\"1\" class=\"dataframe\">\n",
       "  <thead>\n",
       "    <tr style=\"text-align: right;\">\n",
       "      <th></th>\n",
       "      <th>title</th>\n",
       "      <th>year</th>\n",
       "    </tr>\n",
       "  </thead>\n",
       "  <tbody>\n",
       "    <tr>\n",
       "      <th>0</th>\n",
       "      <td>The Rising Son</td>\n",
       "      <td>1990</td>\n",
       "    </tr>\n",
       "    <tr>\n",
       "      <th>1</th>\n",
       "      <td>The Thousand Plane Raid</td>\n",
       "      <td>1969</td>\n",
       "    </tr>\n",
       "    <tr>\n",
       "      <th>2</th>\n",
       "      <td>Crucea de piatra</td>\n",
       "      <td>1993</td>\n",
       "    </tr>\n",
       "    <tr>\n",
       "      <th>3</th>\n",
       "      <td>Country</td>\n",
       "      <td>2000</td>\n",
       "    </tr>\n",
       "    <tr>\n",
       "      <th>4</th>\n",
       "      <td>Gaiking II</td>\n",
       "      <td>2011</td>\n",
       "    </tr>\n",
       "  </tbody>\n",
       "</table>\n",
       "</div>"
      ],
      "text/plain": [
       "                     title  year\n",
       "0           The Rising Son  1990\n",
       "1  The Thousand Plane Raid  1969\n",
       "2         Crucea de piatra  1993\n",
       "3                  Country  2000\n",
       "4               Gaiking II  2011"
      ]
     },
     "execution_count": 3,
     "metadata": {},
     "output_type": "execute_result"
    }
   ],
   "source": [
    "titles = pd.DataFrame.from_csv('data/titles.csv', index_col=None, encoding='utf=8')\n",
    "titles.head()"
   ]
  },
  {
   "cell_type": "code",
   "execution_count": 4,
   "metadata": {
    "collapsed": false
   },
   "outputs": [
    {
     "data": {
      "text/html": [
       "<div>\n",
       "<table border=\"1\" class=\"dataframe\">\n",
       "  <thead>\n",
       "    <tr style=\"text-align: right;\">\n",
       "      <th></th>\n",
       "      <th>title</th>\n",
       "      <th>year</th>\n",
       "      <th>name</th>\n",
       "      <th>type</th>\n",
       "      <th>character</th>\n",
       "      <th>n</th>\n",
       "    </tr>\n",
       "  </thead>\n",
       "  <tbody>\n",
       "    <tr>\n",
       "      <th>0</th>\n",
       "      <td>Suuri illusioni</td>\n",
       "      <td>1985</td>\n",
       "      <td>Homo $</td>\n",
       "      <td>actor</td>\n",
       "      <td>Guests</td>\n",
       "      <td>22.0</td>\n",
       "    </tr>\n",
       "    <tr>\n",
       "      <th>1</th>\n",
       "      <td>Battle of the Sexes</td>\n",
       "      <td>2017</td>\n",
       "      <td>$hutter</td>\n",
       "      <td>actor</td>\n",
       "      <td>Bobby Riggs Fan</td>\n",
       "      <td>10.0</td>\n",
       "    </tr>\n",
       "    <tr>\n",
       "      <th>2</th>\n",
       "      <td>Secret in Their Eyes</td>\n",
       "      <td>2015</td>\n",
       "      <td>$hutter</td>\n",
       "      <td>actor</td>\n",
       "      <td>2002 Dodger Fan</td>\n",
       "      <td>NaN</td>\n",
       "    </tr>\n",
       "    <tr>\n",
       "      <th>3</th>\n",
       "      <td>Steve Jobs</td>\n",
       "      <td>2015</td>\n",
       "      <td>$hutter</td>\n",
       "      <td>actor</td>\n",
       "      <td>1988 Opera House Patron</td>\n",
       "      <td>NaN</td>\n",
       "    </tr>\n",
       "    <tr>\n",
       "      <th>4</th>\n",
       "      <td>Straight Outta Compton</td>\n",
       "      <td>2015</td>\n",
       "      <td>$hutter</td>\n",
       "      <td>actor</td>\n",
       "      <td>Club Patron</td>\n",
       "      <td>NaN</td>\n",
       "    </tr>\n",
       "  </tbody>\n",
       "</table>\n",
       "</div>"
      ],
      "text/plain": [
       "                    title  year     name   type                character     n\n",
       "0         Suuri illusioni  1985   Homo $  actor                   Guests  22.0\n",
       "1     Battle of the Sexes  2017  $hutter  actor          Bobby Riggs Fan  10.0\n",
       "2    Secret in Their Eyes  2015  $hutter  actor          2002 Dodger Fan   NaN\n",
       "3              Steve Jobs  2015  $hutter  actor  1988 Opera House Patron   NaN\n",
       "4  Straight Outta Compton  2015  $hutter  actor              Club Patron   NaN"
      ]
     },
     "execution_count": 4,
     "metadata": {},
     "output_type": "execute_result"
    }
   ],
   "source": [
    "cast = pd.DataFrame.from_csv('data/cast.csv', index_col=None, encoding='utf=8')\n",
    "cast.head()"
   ]
  },
  {
   "cell_type": "markdown",
   "metadata": {
    "collapsed": true
   },
   "source": [
    "### How many movies are listed in the titles dataframe?"
   ]
  },
  {
   "cell_type": "code",
   "execution_count": 5,
   "metadata": {
    "collapsed": false
   },
   "outputs": [
    {
     "data": {
      "text/plain": [
       "225984"
      ]
     },
     "execution_count": 5,
     "metadata": {},
     "output_type": "execute_result"
    }
   ],
   "source": [
    "len(titles)"
   ]
  },
  {
   "cell_type": "markdown",
   "metadata": {
    "collapsed": true
   },
   "source": [
    "### What are the earliest two films listed in the titles dataframe?"
   ]
  },
  {
   "cell_type": "code",
   "execution_count": 6,
   "metadata": {
    "collapsed": false
   },
   "outputs": [
    {
     "data": {
      "text/html": [
       "<div>\n",
       "<table border=\"1\" class=\"dataframe\">\n",
       "  <thead>\n",
       "    <tr style=\"text-align: right;\">\n",
       "      <th></th>\n",
       "      <th>title</th>\n",
       "      <th>year</th>\n",
       "    </tr>\n",
       "  </thead>\n",
       "  <tbody>\n",
       "    <tr>\n",
       "      <th>172759</th>\n",
       "      <td>Miss Jerry</td>\n",
       "      <td>1894</td>\n",
       "    </tr>\n",
       "    <tr>\n",
       "      <th>121072</th>\n",
       "      <td>Reproduction of the Corbett and Jeffries Fight</td>\n",
       "      <td>1899</td>\n",
       "    </tr>\n",
       "  </tbody>\n",
       "</table>\n",
       "</div>"
      ],
      "text/plain": [
       "                                                 title  year\n",
       "172759                                      Miss Jerry  1894\n",
       "121072  Reproduction of the Corbett and Jeffries Fight  1899"
      ]
     },
     "execution_count": 6,
     "metadata": {},
     "output_type": "execute_result"
    }
   ],
   "source": [
    "titles.sort_values('year').head(2)"
   ]
  },
  {
   "cell_type": "markdown",
   "metadata": {
    "collapsed": true
   },
   "source": [
    "### How many movies have the title \"Hamlet\"?"
   ]
  },
  {
   "cell_type": "code",
   "execution_count": 7,
   "metadata": {
    "collapsed": false
   },
   "outputs": [
    {
     "data": {
      "text/plain": [
       "19"
      ]
     },
     "execution_count": 7,
     "metadata": {},
     "output_type": "execute_result"
    }
   ],
   "source": [
    "len(titles[titles['title'] == 'Hamlet'])"
   ]
  },
  {
   "cell_type": "code",
   "execution_count": null,
   "metadata": {
    "collapsed": true
   },
   "outputs": [],
   "source": []
  },
  {
   "cell_type": "markdown",
   "metadata": {
    "collapsed": true
   },
   "source": [
    "### How many movies are titled \"North by Northwest\"?"
   ]
  },
  {
   "cell_type": "code",
   "execution_count": 8,
   "metadata": {
    "collapsed": false
   },
   "outputs": [
    {
     "data": {
      "text/plain": [
       "1"
      ]
     },
     "execution_count": 8,
     "metadata": {},
     "output_type": "execute_result"
    }
   ],
   "source": [
    "len(titles[titles.title == 'North by Northwest'])"
   ]
  },
  {
   "cell_type": "code",
   "execution_count": null,
   "metadata": {
    "collapsed": true
   },
   "outputs": [],
   "source": []
  },
  {
   "cell_type": "markdown",
   "metadata": {
    "collapsed": true
   },
   "source": [
    "### When was the first movie titled \"Hamlet\" made?"
   ]
  },
  {
   "cell_type": "code",
   "execution_count": 9,
   "metadata": {
    "collapsed": false
   },
   "outputs": [
    {
     "data": {
      "text/html": [
       "<div>\n",
       "<table border=\"1\" class=\"dataframe\">\n",
       "  <thead>\n",
       "    <tr style=\"text-align: right;\">\n",
       "      <th></th>\n",
       "      <th>title</th>\n",
       "      <th>year</th>\n",
       "    </tr>\n",
       "  </thead>\n",
       "  <tbody>\n",
       "    <tr>\n",
       "      <th>45437</th>\n",
       "      <td>Hamlet</td>\n",
       "      <td>1910</td>\n",
       "    </tr>\n",
       "  </tbody>\n",
       "</table>\n",
       "</div>"
      ],
      "text/plain": [
       "        title  year\n",
       "45437  Hamlet  1910"
      ]
     },
     "execution_count": 9,
     "metadata": {},
     "output_type": "execute_result"
    }
   ],
   "source": [
    "titles[titles.title == 'Hamlet'].sort_values('year').head(1)"
   ]
  },
  {
   "cell_type": "code",
   "execution_count": null,
   "metadata": {
    "collapsed": true
   },
   "outputs": [],
   "source": []
  },
  {
   "cell_type": "markdown",
   "metadata": {
    "collapsed": true
   },
   "source": [
    "### List all of the \"Treasure Island\" movies from earliest to most recent."
   ]
  },
  {
   "cell_type": "code",
   "execution_count": 10,
   "metadata": {
    "collapsed": false
   },
   "outputs": [
    {
     "data": {
      "text/html": [
       "<div>\n",
       "<table border=\"1\" class=\"dataframe\">\n",
       "  <thead>\n",
       "    <tr style=\"text-align: right;\">\n",
       "      <th></th>\n",
       "      <th>title</th>\n",
       "      <th>year</th>\n",
       "    </tr>\n",
       "  </thead>\n",
       "  <tbody>\n",
       "    <tr>\n",
       "      <th>200338</th>\n",
       "      <td>Treasure Island</td>\n",
       "      <td>1918</td>\n",
       "    </tr>\n",
       "    <tr>\n",
       "      <th>49875</th>\n",
       "      <td>Treasure Island</td>\n",
       "      <td>1920</td>\n",
       "    </tr>\n",
       "    <tr>\n",
       "      <th>185736</th>\n",
       "      <td>Treasure Island</td>\n",
       "      <td>1934</td>\n",
       "    </tr>\n",
       "    <tr>\n",
       "      <th>94278</th>\n",
       "      <td>Treasure Island</td>\n",
       "      <td>1950</td>\n",
       "    </tr>\n",
       "    <tr>\n",
       "      <th>57999</th>\n",
       "      <td>Treasure Island</td>\n",
       "      <td>1972</td>\n",
       "    </tr>\n",
       "    <tr>\n",
       "      <th>108325</th>\n",
       "      <td>Treasure Island</td>\n",
       "      <td>1973</td>\n",
       "    </tr>\n",
       "    <tr>\n",
       "      <th>199726</th>\n",
       "      <td>Treasure Island</td>\n",
       "      <td>1985</td>\n",
       "    </tr>\n",
       "    <tr>\n",
       "      <th>174330</th>\n",
       "      <td>Treasure Island</td>\n",
       "      <td>1999</td>\n",
       "    </tr>\n",
       "  </tbody>\n",
       "</table>\n",
       "</div>"
      ],
      "text/plain": [
       "                  title  year\n",
       "200338  Treasure Island  1918\n",
       "49875   Treasure Island  1920\n",
       "185736  Treasure Island  1934\n",
       "94278   Treasure Island  1950\n",
       "57999   Treasure Island  1972\n",
       "108325  Treasure Island  1973\n",
       "199726  Treasure Island  1985\n",
       "174330  Treasure Island  1999"
      ]
     },
     "execution_count": 10,
     "metadata": {},
     "output_type": "execute_result"
    }
   ],
   "source": [
    "titles[titles.title == 'Treasure Island'].sort_values('year')"
   ]
  },
  {
   "cell_type": "code",
   "execution_count": null,
   "metadata": {
    "collapsed": true
   },
   "outputs": [],
   "source": []
  },
  {
   "cell_type": "markdown",
   "metadata": {
    "collapsed": true
   },
   "source": [
    "### How many movies were made in the year 1950?"
   ]
  },
  {
   "cell_type": "code",
   "execution_count": 11,
   "metadata": {
    "collapsed": false
   },
   "outputs": [
    {
     "data": {
      "text/plain": [
       "1082"
      ]
     },
     "execution_count": 11,
     "metadata": {},
     "output_type": "execute_result"
    }
   ],
   "source": [
    "len(titles[titles.year == 1950])"
   ]
  },
  {
   "cell_type": "code",
   "execution_count": null,
   "metadata": {
    "collapsed": true
   },
   "outputs": [],
   "source": []
  },
  {
   "cell_type": "markdown",
   "metadata": {
    "collapsed": true
   },
   "source": [
    "### How many movies were made in the year 1960?"
   ]
  },
  {
   "cell_type": "code",
   "execution_count": 12,
   "metadata": {
    "collapsed": false
   },
   "outputs": [
    {
     "data": {
      "text/plain": [
       "1484"
      ]
     },
     "execution_count": 12,
     "metadata": {},
     "output_type": "execute_result"
    }
   ],
   "source": [
    "len(titles[titles.year == 1960])"
   ]
  },
  {
   "cell_type": "code",
   "execution_count": null,
   "metadata": {
    "collapsed": true
   },
   "outputs": [],
   "source": []
  },
  {
   "cell_type": "markdown",
   "metadata": {
    "collapsed": true
   },
   "source": [
    "### How many movies were made from 1950 through 1959?"
   ]
  },
  {
   "cell_type": "code",
   "execution_count": 13,
   "metadata": {
    "collapsed": false
   },
   "outputs": [
    {
     "data": {
      "text/plain": [
       "12468"
      ]
     },
     "execution_count": 13,
     "metadata": {},
     "output_type": "execute_result"
    }
   ],
   "source": [
    "len(titles[(titles.year >= 1950) & (titles.year < 1960)])"
   ]
  },
  {
   "cell_type": "code",
   "execution_count": null,
   "metadata": {
    "collapsed": true
   },
   "outputs": [],
   "source": []
  },
  {
   "cell_type": "markdown",
   "metadata": {
    "collapsed": true
   },
   "source": [
    "### In what years has a movie titled \"Batman\" been released?"
   ]
  },
  {
   "cell_type": "code",
   "execution_count": 14,
   "metadata": {
    "collapsed": false
   },
   "outputs": [
    {
     "data": {
      "text/html": [
       "<div>\n",
       "<table border=\"1\" class=\"dataframe\">\n",
       "  <thead>\n",
       "    <tr style=\"text-align: right;\">\n",
       "      <th></th>\n",
       "      <th>title</th>\n",
       "      <th>year</th>\n",
       "    </tr>\n",
       "  </thead>\n",
       "  <tbody>\n",
       "    <tr>\n",
       "      <th>54479</th>\n",
       "      <td>Batman</td>\n",
       "      <td>1989</td>\n",
       "    </tr>\n",
       "    <tr>\n",
       "      <th>72586</th>\n",
       "      <td>Batman</td>\n",
       "      <td>1943</td>\n",
       "    </tr>\n",
       "  </tbody>\n",
       "</table>\n",
       "</div>"
      ],
      "text/plain": [
       "        title  year\n",
       "54479  Batman  1989\n",
       "72586  Batman  1943"
      ]
     },
     "execution_count": 14,
     "metadata": {},
     "output_type": "execute_result"
    }
   ],
   "source": [
    "titles[titles.title == \"Batman\"]"
   ]
  },
  {
   "cell_type": "code",
   "execution_count": null,
   "metadata": {
    "collapsed": true
   },
   "outputs": [],
   "source": []
  },
  {
   "cell_type": "markdown",
   "metadata": {
    "collapsed": true
   },
   "source": [
    "### How many roles were there in the movie \"Inception\"?"
   ]
  },
  {
   "cell_type": "code",
   "execution_count": 15,
   "metadata": {
    "collapsed": false
   },
   "outputs": [
    {
     "data": {
      "text/plain": [
       "78"
      ]
     },
     "execution_count": 15,
     "metadata": {},
     "output_type": "execute_result"
    }
   ],
   "source": [
    "len(cast[cast.title == \"Inception\"])"
   ]
  },
  {
   "cell_type": "code",
   "execution_count": null,
   "metadata": {
    "collapsed": true
   },
   "outputs": [],
   "source": []
  },
  {
   "cell_type": "markdown",
   "metadata": {
    "collapsed": true
   },
   "source": [
    "### How many roles in the movie \"Inception\" are NOT ranked by an \"n\" value?"
   ]
  },
  {
   "cell_type": "code",
   "execution_count": 16,
   "metadata": {
    "collapsed": false
   },
   "outputs": [],
   "source": [
    "inception_cast = cast[cast.title == \"Inception\"]"
   ]
  },
  {
   "cell_type": "code",
   "execution_count": 20,
   "metadata": {
    "collapsed": false
   },
   "outputs": [
    {
     "data": {
      "text/html": [
       "<div>\n",
       "<table border=\"1\" class=\"dataframe\">\n",
       "  <thead>\n",
       "    <tr style=\"text-align: right;\">\n",
       "      <th></th>\n",
       "      <th>title</th>\n",
       "      <th>year</th>\n",
       "      <th>name</th>\n",
       "      <th>type</th>\n",
       "      <th>character</th>\n",
       "      <th>n</th>\n",
       "    </tr>\n",
       "  </thead>\n",
       "  <tbody>\n",
       "    <tr>\n",
       "      <th>91224</th>\n",
       "      <td>Inception</td>\n",
       "      <td>2010</td>\n",
       "      <td>Michael (III) August</td>\n",
       "      <td>actor</td>\n",
       "      <td>LAX Passenger</td>\n",
       "      <td>NaN</td>\n",
       "    </tr>\n",
       "    <tr>\n",
       "      <th>184310</th>\n",
       "      <td>Inception</td>\n",
       "      <td>2010</td>\n",
       "      <td>Ken Bhan</td>\n",
       "      <td>actor</td>\n",
       "      <td>Mombasan Gambler</td>\n",
       "      <td>NaN</td>\n",
       "    </tr>\n",
       "    <tr>\n",
       "      <th>350432</th>\n",
       "      <td>Inception</td>\n",
       "      <td>2010</td>\n",
       "      <td>John Ceallach</td>\n",
       "      <td>actor</td>\n",
       "      <td>LAX Passenger</td>\n",
       "      <td>NaN</td>\n",
       "    </tr>\n",
       "    <tr>\n",
       "      <th>640888</th>\n",
       "      <td>Inception</td>\n",
       "      <td>2010</td>\n",
       "      <td>Seve Esposito</td>\n",
       "      <td>actor</td>\n",
       "      <td>Italian Gambler</td>\n",
       "      <td>NaN</td>\n",
       "    </tr>\n",
       "    <tr>\n",
       "      <th>647039</th>\n",
       "      <td>Inception</td>\n",
       "      <td>2010</td>\n",
       "      <td>Marcus (II) Everett</td>\n",
       "      <td>actor</td>\n",
       "      <td>Stock Broker</td>\n",
       "      <td>NaN</td>\n",
       "    </tr>\n",
       "    <tr>\n",
       "      <th>662990</th>\n",
       "      <td>Inception</td>\n",
       "      <td>2010</td>\n",
       "      <td>Zachary Christopher Fay</td>\n",
       "      <td>actor</td>\n",
       "      <td>Extra</td>\n",
       "      <td>NaN</td>\n",
       "    </tr>\n",
       "    <tr>\n",
       "      <th>783670</th>\n",
       "      <td>Inception</td>\n",
       "      <td>2010</td>\n",
       "      <td>Daniel Girondeaud</td>\n",
       "      <td>actor</td>\n",
       "      <td>Bridge Sub Con</td>\n",
       "      <td>NaN</td>\n",
       "    </tr>\n",
       "    <tr>\n",
       "      <th>943766</th>\n",
       "      <td>Inception</td>\n",
       "      <td>2010</td>\n",
       "      <td>Andrew Hoagland</td>\n",
       "      <td>actor</td>\n",
       "      <td>Pedestrian</td>\n",
       "      <td>NaN</td>\n",
       "    </tr>\n",
       "    <tr>\n",
       "      <th>1026810</th>\n",
       "      <td>Inception</td>\n",
       "      <td>2010</td>\n",
       "      <td>Charles Jarrell</td>\n",
       "      <td>actor</td>\n",
       "      <td>Hotel Guest</td>\n",
       "      <td>NaN</td>\n",
       "    </tr>\n",
       "    <tr>\n",
       "      <th>1039402</th>\n",
       "      <td>Inception</td>\n",
       "      <td>2010</td>\n",
       "      <td>Seong-hwan Jo</td>\n",
       "      <td>actor</td>\n",
       "      <td>Japanese Landing Crew</td>\n",
       "      <td>NaN</td>\n",
       "    </tr>\n",
       "    <tr>\n",
       "      <th>1050099</th>\n",
       "      <td>Inception</td>\n",
       "      <td>2010</td>\n",
       "      <td>Alonzo F. Jones</td>\n",
       "      <td>actor</td>\n",
       "      <td>Mombasan Casino Staff</td>\n",
       "      <td>NaN</td>\n",
       "    </tr>\n",
       "    <tr>\n",
       "      <th>1114250</th>\n",
       "      <td>Inception</td>\n",
       "      <td>2010</td>\n",
       "      <td>Mobin Khan</td>\n",
       "      <td>actor</td>\n",
       "      <td>Mombasa Casino Cashier</td>\n",
       "      <td>NaN</td>\n",
       "    </tr>\n",
       "    <tr>\n",
       "      <th>1168879</th>\n",
       "      <td>Inception</td>\n",
       "      <td>2010</td>\n",
       "      <td>Shunsaku Kud?</td>\n",
       "      <td>actor</td>\n",
       "      <td>Saito's Bodyguard Officer</td>\n",
       "      <td>NaN</td>\n",
       "    </tr>\n",
       "    <tr>\n",
       "      <th>1213721</th>\n",
       "      <td>Inception</td>\n",
       "      <td>2010</td>\n",
       "      <td>John (IX) Lawson</td>\n",
       "      <td>actor</td>\n",
       "      <td>Street Person</td>\n",
       "      <td>NaN</td>\n",
       "    </tr>\n",
       "    <tr>\n",
       "      <th>1228771</th>\n",
       "      <td>Inception</td>\n",
       "      <td>2010</td>\n",
       "      <td>Jean-Christophe Leger</td>\n",
       "      <td>actor</td>\n",
       "      <td>French Student</td>\n",
       "      <td>NaN</td>\n",
       "    </tr>\n",
       "    <tr>\n",
       "      <th>1370168</th>\n",
       "      <td>Inception</td>\n",
       "      <td>2010</td>\n",
       "      <td>Akash Mati</td>\n",
       "      <td>actor</td>\n",
       "      <td>Reporter</td>\n",
       "      <td>NaN</td>\n",
       "    </tr>\n",
       "    <tr>\n",
       "      <th>1560737</th>\n",
       "      <td>Inception</td>\n",
       "      <td>2010</td>\n",
       "      <td>Fran?ois-Marie Nivon</td>\n",
       "      <td>actor</td>\n",
       "      <td>A Passer-By</td>\n",
       "      <td>NaN</td>\n",
       "    </tr>\n",
       "    <tr>\n",
       "      <th>1720270</th>\n",
       "      <td>Inception</td>\n",
       "      <td>2010</td>\n",
       "      <td>Scott Pretty</td>\n",
       "      <td>actor</td>\n",
       "      <td>Pedestrian</td>\n",
       "      <td>NaN</td>\n",
       "    </tr>\n",
       "    <tr>\n",
       "      <th>1799257</th>\n",
       "      <td>Inception</td>\n",
       "      <td>2010</td>\n",
       "      <td>Benjamin (II) Riley</td>\n",
       "      <td>actor</td>\n",
       "      <td>Bridge Sub Con</td>\n",
       "      <td>NaN</td>\n",
       "    </tr>\n",
       "    <tr>\n",
       "      <th>1872692</th>\n",
       "      <td>Inception</td>\n",
       "      <td>2010</td>\n",
       "      <td>Norman Saleet</td>\n",
       "      <td>actor</td>\n",
       "      <td>Airport Patron</td>\n",
       "      <td>NaN</td>\n",
       "    </tr>\n",
       "    <tr>\n",
       "      <th>1991511</th>\n",
       "      <td>Inception</td>\n",
       "      <td>2010</td>\n",
       "      <td>Colin (XXV) Smith</td>\n",
       "      <td>actor</td>\n",
       "      <td>Airport Patron</td>\n",
       "      <td>NaN</td>\n",
       "    </tr>\n",
       "    <tr>\n",
       "      <th>2095175</th>\n",
       "      <td>Inception</td>\n",
       "      <td>2010</td>\n",
       "      <td>Affan Tareen</td>\n",
       "      <td>actor</td>\n",
       "      <td>Denison</td>\n",
       "      <td>NaN</td>\n",
       "    </tr>\n",
       "    <tr>\n",
       "      <th>2608999</th>\n",
       "      <td>Inception</td>\n",
       "      <td>2010</td>\n",
       "      <td>Youlanda Davis</td>\n",
       "      <td>actress</td>\n",
       "      <td>Mombasan Cashier</td>\n",
       "      <td>NaN</td>\n",
       "    </tr>\n",
       "    <tr>\n",
       "      <th>2659532</th>\n",
       "      <td>Inception</td>\n",
       "      <td>2010</td>\n",
       "      <td>Julie Eagleton</td>\n",
       "      <td>actress</td>\n",
       "      <td>Stockbroker</td>\n",
       "      <td>NaN</td>\n",
       "    </tr>\n",
       "    <tr>\n",
       "      <th>2748996</th>\n",
       "      <td>Inception</td>\n",
       "      <td>2010</td>\n",
       "      <td>Natalie Goldwin</td>\n",
       "      <td>actress</td>\n",
       "      <td>LAX Passenger</td>\n",
       "      <td>NaN</td>\n",
       "    </tr>\n",
       "    <tr>\n",
       "      <th>2843444</th>\n",
       "      <td>Inception</td>\n",
       "      <td>2010</td>\n",
       "      <td>Marguerite Insolia</td>\n",
       "      <td>actress</td>\n",
       "      <td>Reporter</td>\n",
       "      <td>NaN</td>\n",
       "    </tr>\n",
       "    <tr>\n",
       "      <th>2928365</th>\n",
       "      <td>Inception</td>\n",
       "      <td>2010</td>\n",
       "      <td>Leticia LaBelle</td>\n",
       "      <td>actress</td>\n",
       "      <td>Airport Patron</td>\n",
       "      <td>NaN</td>\n",
       "    </tr>\n",
       "  </tbody>\n",
       "</table>\n",
       "</div>"
      ],
      "text/plain": [
       "             title  year                     name     type  \\\n",
       "91224    Inception  2010     Michael (III) August    actor   \n",
       "184310   Inception  2010                 Ken Bhan    actor   \n",
       "350432   Inception  2010            John Ceallach    actor   \n",
       "640888   Inception  2010            Seve Esposito    actor   \n",
       "647039   Inception  2010      Marcus (II) Everett    actor   \n",
       "662990   Inception  2010  Zachary Christopher Fay    actor   \n",
       "783670   Inception  2010        Daniel Girondeaud    actor   \n",
       "943766   Inception  2010          Andrew Hoagland    actor   \n",
       "1026810  Inception  2010          Charles Jarrell    actor   \n",
       "1039402  Inception  2010            Seong-hwan Jo    actor   \n",
       "1050099  Inception  2010          Alonzo F. Jones    actor   \n",
       "1114250  Inception  2010               Mobin Khan    actor   \n",
       "1168879  Inception  2010            Shunsaku Kud?    actor   \n",
       "1213721  Inception  2010         John (IX) Lawson    actor   \n",
       "1228771  Inception  2010    Jean-Christophe Leger    actor   \n",
       "1370168  Inception  2010               Akash Mati    actor   \n",
       "1560737  Inception  2010     Fran?ois-Marie Nivon    actor   \n",
       "1720270  Inception  2010             Scott Pretty    actor   \n",
       "1799257  Inception  2010      Benjamin (II) Riley    actor   \n",
       "1872692  Inception  2010            Norman Saleet    actor   \n",
       "1991511  Inception  2010        Colin (XXV) Smith    actor   \n",
       "2095175  Inception  2010             Affan Tareen    actor   \n",
       "2608999  Inception  2010           Youlanda Davis  actress   \n",
       "2659532  Inception  2010           Julie Eagleton  actress   \n",
       "2748996  Inception  2010          Natalie Goldwin  actress   \n",
       "2843444  Inception  2010       Marguerite Insolia  actress   \n",
       "2928365  Inception  2010          Leticia LaBelle  actress   \n",
       "\n",
       "                         character   n  \n",
       "91224                LAX Passenger NaN  \n",
       "184310            Mombasan Gambler NaN  \n",
       "350432               LAX Passenger NaN  \n",
       "640888             Italian Gambler NaN  \n",
       "647039                Stock Broker NaN  \n",
       "662990                       Extra NaN  \n",
       "783670              Bridge Sub Con NaN  \n",
       "943766                  Pedestrian NaN  \n",
       "1026810                Hotel Guest NaN  \n",
       "1039402      Japanese Landing Crew NaN  \n",
       "1050099      Mombasan Casino Staff NaN  \n",
       "1114250     Mombasa Casino Cashier NaN  \n",
       "1168879  Saito's Bodyguard Officer NaN  \n",
       "1213721              Street Person NaN  \n",
       "1228771             French Student NaN  \n",
       "1370168                   Reporter NaN  \n",
       "1560737                A Passer-By NaN  \n",
       "1720270                 Pedestrian NaN  \n",
       "1799257             Bridge Sub Con NaN  \n",
       "1872692             Airport Patron NaN  \n",
       "1991511             Airport Patron NaN  \n",
       "2095175                    Denison NaN  \n",
       "2608999           Mombasan Cashier NaN  \n",
       "2659532                Stockbroker NaN  \n",
       "2748996              LAX Passenger NaN  \n",
       "2843444                   Reporter NaN  \n",
       "2928365             Airport Patron NaN  "
      ]
     },
     "execution_count": 20,
     "metadata": {},
     "output_type": "execute_result"
    }
   ],
   "source": [
    "inception_cast_null = inception_cast[inception_cast.n.isnull()]\n",
    "inception_cast_null"
   ]
  },
  {
   "cell_type": "code",
   "execution_count": 22,
   "metadata": {
    "collapsed": false
   },
   "outputs": [
    {
     "data": {
      "text/plain": [
       "27"
      ]
     },
     "execution_count": 22,
     "metadata": {},
     "output_type": "execute_result"
    }
   ],
   "source": [
    "len(inception_cast_null)"
   ]
  },
  {
   "cell_type": "markdown",
   "metadata": {
    "collapsed": true
   },
   "source": [
    "### But how many roles in the movie \"Inception\" did receive an \"n\" value?"
   ]
  },
  {
   "cell_type": "code",
   "execution_count": 18,
   "metadata": {
    "collapsed": false
   },
   "outputs": [
    {
     "data": {
      "text/plain": [
       "51"
      ]
     },
     "execution_count": 18,
     "metadata": {},
     "output_type": "execute_result"
    }
   ],
   "source": [
    "len(inception_cast[inception_cast.n.notnull()])"
   ]
  },
  {
   "cell_type": "code",
   "execution_count": 19,
   "metadata": {
    "collapsed": false
   },
   "outputs": [
    {
     "data": {
      "text/html": [
       "<div>\n",
       "<table border=\"1\" class=\"dataframe\">\n",
       "  <thead>\n",
       "    <tr style=\"text-align: right;\">\n",
       "      <th></th>\n",
       "      <th>title</th>\n",
       "      <th>year</th>\n",
       "      <th>name</th>\n",
       "      <th>type</th>\n",
       "      <th>character</th>\n",
       "      <th>n</th>\n",
       "    </tr>\n",
       "  </thead>\n",
       "  <tbody>\n",
       "    <tr>\n",
       "      <th>138528</th>\n",
       "      <td>Inception</td>\n",
       "      <td>2010</td>\n",
       "      <td>Peter Basham</td>\n",
       "      <td>actor</td>\n",
       "      <td>Fischer's Jet Captain</td>\n",
       "      <td>44.0</td>\n",
       "    </tr>\n",
       "    <tr>\n",
       "      <th>171288</th>\n",
       "      <td>Inception</td>\n",
       "      <td>2010</td>\n",
       "      <td>Tom Berenger</td>\n",
       "      <td>actor</td>\n",
       "      <td>Browning</td>\n",
       "      <td>8.0</td>\n",
       "    </tr>\n",
       "    <tr>\n",
       "      <th>242553</th>\n",
       "      <td>Inception</td>\n",
       "      <td>2010</td>\n",
       "      <td>Virgile Bramly</td>\n",
       "      <td>actor</td>\n",
       "      <td>Bridge Sub Con</td>\n",
       "      <td>29.0</td>\n",
       "    </tr>\n",
       "    <tr>\n",
       "      <th>305293</th>\n",
       "      <td>Inception</td>\n",
       "      <td>2010</td>\n",
       "      <td>Michael Caine</td>\n",
       "      <td>actor</td>\n",
       "      <td>Miles</td>\n",
       "      <td>11.0</td>\n",
       "    </tr>\n",
       "    <tr>\n",
       "      <th>311506</th>\n",
       "      <td>Inception</td>\n",
       "      <td>2010</td>\n",
       "      <td>Earl Cameron</td>\n",
       "      <td>actor</td>\n",
       "      <td>Elderly Bald Man</td>\n",
       "      <td>20.0</td>\n",
       "    </tr>\n",
       "  </tbody>\n",
       "</table>\n",
       "</div>"
      ],
      "text/plain": [
       "            title  year            name   type              character     n\n",
       "138528  Inception  2010    Peter Basham  actor  Fischer's Jet Captain  44.0\n",
       "171288  Inception  2010    Tom Berenger  actor               Browning   8.0\n",
       "242553  Inception  2010  Virgile Bramly  actor         Bridge Sub Con  29.0\n",
       "305293  Inception  2010   Michael Caine  actor                  Miles  11.0\n",
       "311506  Inception  2010    Earl Cameron  actor       Elderly Bald Man  20.0"
      ]
     },
     "execution_count": 19,
     "metadata": {},
     "output_type": "execute_result"
    }
   ],
   "source": [
    "inception_cast[inception_cast.n.notnull()].head()"
   ]
  },
  {
   "cell_type": "markdown",
   "metadata": {
    "collapsed": true
   },
   "source": [
    "### Display the cast of \"North by Northwest\" in their correct \"n\"-value order, ignoring roles that did not earn a numeric \"n\" value."
   ]
  },
  {
   "cell_type": "code",
   "execution_count": 23,
   "metadata": {
    "collapsed": false
   },
   "outputs": [
    {
     "data": {
      "text/html": [
       "<div>\n",
       "<table border=\"1\" class=\"dataframe\">\n",
       "  <thead>\n",
       "    <tr style=\"text-align: right;\">\n",
       "      <th></th>\n",
       "      <th>title</th>\n",
       "      <th>year</th>\n",
       "      <th>name</th>\n",
       "      <th>type</th>\n",
       "      <th>character</th>\n",
       "      <th>n</th>\n",
       "    </tr>\n",
       "  </thead>\n",
       "  <tbody>\n",
       "    <tr>\n",
       "      <th>11733</th>\n",
       "      <td>North by Northwest</td>\n",
       "      <td>1959</td>\n",
       "      <td>Stanley Adams</td>\n",
       "      <td>actor</td>\n",
       "      <td>Lieutenant Harding</td>\n",
       "      <td>NaN</td>\n",
       "    </tr>\n",
       "    <tr>\n",
       "      <th>26846</th>\n",
       "      <td>North by Northwest</td>\n",
       "      <td>1959</td>\n",
       "      <td>Andy Albin</td>\n",
       "      <td>actor</td>\n",
       "      <td>Farmer</td>\n",
       "      <td>NaN</td>\n",
       "    </tr>\n",
       "  </tbody>\n",
       "</table>\n",
       "</div>"
      ],
      "text/plain": [
       "                    title  year           name   type           character   n\n",
       "11733  North by Northwest  1959  Stanley Adams  actor  Lieutenant Harding NaN\n",
       "26846  North by Northwest  1959     Andy Albin  actor              Farmer NaN"
      ]
     },
     "execution_count": 23,
     "metadata": {},
     "output_type": "execute_result"
    }
   ],
   "source": [
    "nbynw_cast = cast[cast.title == \"North by Northwest\"]\n",
    "nbynw_cast.head(2)\n"
   ]
  },
  {
   "cell_type": "code",
   "execution_count": 24,
   "metadata": {
    "collapsed": false
   },
   "outputs": [
    {
     "data": {
      "text/html": [
       "<div>\n",
       "<table border=\"1\" class=\"dataframe\">\n",
       "  <thead>\n",
       "    <tr style=\"text-align: right;\">\n",
       "      <th></th>\n",
       "      <th>title</th>\n",
       "      <th>year</th>\n",
       "      <th>name</th>\n",
       "      <th>type</th>\n",
       "      <th>character</th>\n",
       "      <th>n</th>\n",
       "    </tr>\n",
       "  </thead>\n",
       "  <tbody>\n",
       "    <tr>\n",
       "      <th>816462</th>\n",
       "      <td>North by Northwest</td>\n",
       "      <td>1959</td>\n",
       "      <td>Cary Grant</td>\n",
       "      <td>actor</td>\n",
       "      <td>Roger O. Thornhill</td>\n",
       "      <td>1.0</td>\n",
       "    </tr>\n",
       "    <tr>\n",
       "      <th>3262390</th>\n",
       "      <td>North by Northwest</td>\n",
       "      <td>1959</td>\n",
       "      <td>Eva Marie Saint</td>\n",
       "      <td>actress</td>\n",
       "      <td>Eve Kendall</td>\n",
       "      <td>2.0</td>\n",
       "    </tr>\n",
       "    <tr>\n",
       "      <th>1364705</th>\n",
       "      <td>North by Northwest</td>\n",
       "      <td>1959</td>\n",
       "      <td>James Mason</td>\n",
       "      <td>actor</td>\n",
       "      <td>Phillip Vandamm</td>\n",
       "      <td>3.0</td>\n",
       "    </tr>\n",
       "    <tr>\n",
       "      <th>2935500</th>\n",
       "      <td>North by Northwest</td>\n",
       "      <td>1959</td>\n",
       "      <td>Jessie Royce Landis</td>\n",
       "      <td>actress</td>\n",
       "      <td>Clara Thornhill</td>\n",
       "      <td>4.0</td>\n",
       "    </tr>\n",
       "    <tr>\n",
       "      <th>333493</th>\n",
       "      <td>North by Northwest</td>\n",
       "      <td>1959</td>\n",
       "      <td>Leo G. Carroll</td>\n",
       "      <td>actor</td>\n",
       "      <td>The Professor</td>\n",
       "      <td>5.0</td>\n",
       "    </tr>\n",
       "    <tr>\n",
       "      <th>2837895</th>\n",
       "      <td>North by Northwest</td>\n",
       "      <td>1959</td>\n",
       "      <td>Josephine Hutchinson</td>\n",
       "      <td>actress</td>\n",
       "      <td>Mrs. Townsend</td>\n",
       "      <td>6.0</td>\n",
       "    </tr>\n",
       "    <tr>\n",
       "      <th>1588311</th>\n",
       "      <td>North by Northwest</td>\n",
       "      <td>1959</td>\n",
       "      <td>Philip Ober</td>\n",
       "      <td>actor</td>\n",
       "      <td>Lester Townsend</td>\n",
       "      <td>7.0</td>\n",
       "    </tr>\n",
       "    <tr>\n",
       "      <th>1193875</th>\n",
       "      <td>North by Northwest</td>\n",
       "      <td>1959</td>\n",
       "      <td>Martin Landau</td>\n",
       "      <td>actor</td>\n",
       "      <td>Leonard</td>\n",
       "      <td>8.0</td>\n",
       "    </tr>\n",
       "    <tr>\n",
       "      <th>2290382</th>\n",
       "      <td>North by Northwest</td>\n",
       "      <td>1959</td>\n",
       "      <td>Adam Williams</td>\n",
       "      <td>actor</td>\n",
       "      <td>Valerian</td>\n",
       "      <td>9.0</td>\n",
       "    </tr>\n",
       "    <tr>\n",
       "      <th>1696719</th>\n",
       "      <td>North by Northwest</td>\n",
       "      <td>1959</td>\n",
       "      <td>Edward Platt</td>\n",
       "      <td>actor</td>\n",
       "      <td>Victor Larrabee</td>\n",
       "      <td>10.0</td>\n",
       "    </tr>\n",
       "    <tr>\n",
       "      <th>623700</th>\n",
       "      <td>North by Northwest</td>\n",
       "      <td>1959</td>\n",
       "      <td>Robert Ellenstein</td>\n",
       "      <td>actor</td>\n",
       "      <td>Licht</td>\n",
       "      <td>11.0</td>\n",
       "    </tr>\n",
       "    <tr>\n",
       "      <th>2148727</th>\n",
       "      <td>North by Northwest</td>\n",
       "      <td>1959</td>\n",
       "      <td>Les Tremayne</td>\n",
       "      <td>actor</td>\n",
       "      <td>Auctioneer</td>\n",
       "      <td>12.0</td>\n",
       "    </tr>\n",
       "    <tr>\n",
       "      <th>434783</th>\n",
       "      <td>North by Northwest</td>\n",
       "      <td>1959</td>\n",
       "      <td>Philip Coolidge</td>\n",
       "      <td>actor</td>\n",
       "      <td>Dr. Cross</td>\n",
       "      <td>13.0</td>\n",
       "    </tr>\n",
       "    <tr>\n",
       "      <th>1413143</th>\n",
       "      <td>North by Northwest</td>\n",
       "      <td>1959</td>\n",
       "      <td>Patrick McVey</td>\n",
       "      <td>actor</td>\n",
       "      <td>Sergeant Flamm</td>\n",
       "      <td>14.0</td>\n",
       "    </tr>\n",
       "    <tr>\n",
       "      <th>192242</th>\n",
       "      <td>North by Northwest</td>\n",
       "      <td>1959</td>\n",
       "      <td>Edward Binns</td>\n",
       "      <td>actor</td>\n",
       "      <td>Captain Junket</td>\n",
       "      <td>15.0</td>\n",
       "    </tr>\n",
       "    <tr>\n",
       "      <th>1296722</th>\n",
       "      <td>North by Northwest</td>\n",
       "      <td>1959</td>\n",
       "      <td>Ken Lynch</td>\n",
       "      <td>actor</td>\n",
       "      <td>Charley - Chicago Policeman</td>\n",
       "      <td>16.0</td>\n",
       "    </tr>\n",
       "  </tbody>\n",
       "</table>\n",
       "</div>"
      ],
      "text/plain": [
       "                      title  year                  name     type  \\\n",
       "816462   North by Northwest  1959            Cary Grant    actor   \n",
       "3262390  North by Northwest  1959       Eva Marie Saint  actress   \n",
       "1364705  North by Northwest  1959           James Mason    actor   \n",
       "2935500  North by Northwest  1959   Jessie Royce Landis  actress   \n",
       "333493   North by Northwest  1959        Leo G. Carroll    actor   \n",
       "2837895  North by Northwest  1959  Josephine Hutchinson  actress   \n",
       "1588311  North by Northwest  1959           Philip Ober    actor   \n",
       "1193875  North by Northwest  1959         Martin Landau    actor   \n",
       "2290382  North by Northwest  1959         Adam Williams    actor   \n",
       "1696719  North by Northwest  1959          Edward Platt    actor   \n",
       "623700   North by Northwest  1959     Robert Ellenstein    actor   \n",
       "2148727  North by Northwest  1959          Les Tremayne    actor   \n",
       "434783   North by Northwest  1959       Philip Coolidge    actor   \n",
       "1413143  North by Northwest  1959         Patrick McVey    actor   \n",
       "192242   North by Northwest  1959          Edward Binns    actor   \n",
       "1296722  North by Northwest  1959             Ken Lynch    actor   \n",
       "\n",
       "                           character     n  \n",
       "816462            Roger O. Thornhill   1.0  \n",
       "3262390                  Eve Kendall   2.0  \n",
       "1364705              Phillip Vandamm   3.0  \n",
       "2935500              Clara Thornhill   4.0  \n",
       "333493                 The Professor   5.0  \n",
       "2837895                Mrs. Townsend   6.0  \n",
       "1588311              Lester Townsend   7.0  \n",
       "1193875                      Leonard   8.0  \n",
       "2290382                     Valerian   9.0  \n",
       "1696719              Victor Larrabee  10.0  \n",
       "623700                         Licht  11.0  \n",
       "2148727                   Auctioneer  12.0  \n",
       "434783                     Dr. Cross  13.0  \n",
       "1413143               Sergeant Flamm  14.0  \n",
       "192242                Captain Junket  15.0  \n",
       "1296722  Charley - Chicago Policeman  16.0  "
      ]
     },
     "execution_count": 24,
     "metadata": {},
     "output_type": "execute_result"
    }
   ],
   "source": [
    "nbynw_cast[nbynw_cast.n.notnull()].sort_values('n')"
   ]
  },
  {
   "cell_type": "markdown",
   "metadata": {
    "collapsed": true
   },
   "source": [
    "### Display the entire cast, in \"n\"-order, of the 1972 film \"Sleuth\"."
   ]
  },
  {
   "cell_type": "code",
   "execution_count": 25,
   "metadata": {
    "collapsed": false
   },
   "outputs": [
    {
     "data": {
      "text/html": [
       "<div>\n",
       "<table border=\"1\" class=\"dataframe\">\n",
       "  <thead>\n",
       "    <tr style=\"text-align: right;\">\n",
       "      <th></th>\n",
       "      <th>title</th>\n",
       "      <th>year</th>\n",
       "      <th>name</th>\n",
       "      <th>type</th>\n",
       "      <th>character</th>\n",
       "      <th>n</th>\n",
       "    </tr>\n",
       "  </thead>\n",
       "  <tbody>\n",
       "    <tr>\n",
       "      <th>242658</th>\n",
       "      <td>Sleuth</td>\n",
       "      <td>2007</td>\n",
       "      <td>Kenneth Branagh</td>\n",
       "      <td>actor</td>\n",
       "      <td>Other Man on T.V.</td>\n",
       "      <td>NaN</td>\n",
       "    </tr>\n",
       "    <tr>\n",
       "      <th>305321</th>\n",
       "      <td>Sleuth</td>\n",
       "      <td>1972</td>\n",
       "      <td>Michael Caine</td>\n",
       "      <td>actor</td>\n",
       "      <td>Milo Tindle</td>\n",
       "      <td>2.0</td>\n",
       "    </tr>\n",
       "  </tbody>\n",
       "</table>\n",
       "</div>"
      ],
      "text/plain": [
       "         title  year             name   type          character    n\n",
       "242658  Sleuth  2007  Kenneth Branagh  actor  Other Man on T.V.  NaN\n",
       "305321  Sleuth  1972    Michael Caine  actor        Milo Tindle  2.0"
      ]
     },
     "execution_count": 25,
     "metadata": {},
     "output_type": "execute_result"
    }
   ],
   "source": [
    "sleuth_cast = cast[cast.title == \"Sleuth\"]\n",
    "sleuth_cast.head(2)"
   ]
  },
  {
   "cell_type": "code",
   "execution_count": 26,
   "metadata": {
    "collapsed": false
   },
   "outputs": [
    {
     "data": {
      "text/html": [
       "<div>\n",
       "<table border=\"1\" class=\"dataframe\">\n",
       "  <thead>\n",
       "    <tr style=\"text-align: right;\">\n",
       "      <th></th>\n",
       "      <th>title</th>\n",
       "      <th>year</th>\n",
       "      <th>name</th>\n",
       "      <th>type</th>\n",
       "      <th>character</th>\n",
       "      <th>n</th>\n",
       "    </tr>\n",
       "  </thead>\n",
       "  <tbody>\n",
       "    <tr>\n",
       "      <th>305322</th>\n",
       "      <td>Sleuth</td>\n",
       "      <td>2007</td>\n",
       "      <td>Michael Caine</td>\n",
       "      <td>actor</td>\n",
       "      <td>Andrew</td>\n",
       "      <td>1.0</td>\n",
       "    </tr>\n",
       "    <tr>\n",
       "      <th>1597654</th>\n",
       "      <td>Sleuth</td>\n",
       "      <td>1972</td>\n",
       "      <td>Laurence Olivier</td>\n",
       "      <td>actor</td>\n",
       "      <td>Andrew Wyke</td>\n",
       "      <td>1.0</td>\n",
       "    </tr>\n",
       "    <tr>\n",
       "      <th>305321</th>\n",
       "      <td>Sleuth</td>\n",
       "      <td>1972</td>\n",
       "      <td>Michael Caine</td>\n",
       "      <td>actor</td>\n",
       "      <td>Milo Tindle</td>\n",
       "      <td>2.0</td>\n",
       "    </tr>\n",
       "    <tr>\n",
       "      <th>1211192</th>\n",
       "      <td>Sleuth</td>\n",
       "      <td>2007</td>\n",
       "      <td>Jude Law</td>\n",
       "      <td>actor</td>\n",
       "      <td>Milo</td>\n",
       "      <td>2.0</td>\n",
       "    </tr>\n",
       "    <tr>\n",
       "      <th>349710</th>\n",
       "      <td>Sleuth</td>\n",
       "      <td>1972</td>\n",
       "      <td>Alec Cawthorne</td>\n",
       "      <td>actor</td>\n",
       "      <td>Inspector Doppler</td>\n",
       "      <td>3.0</td>\n",
       "    </tr>\n",
       "    <tr>\n",
       "      <th>1691641</th>\n",
       "      <td>Sleuth</td>\n",
       "      <td>2007</td>\n",
       "      <td>Harold Pinter</td>\n",
       "      <td>actor</td>\n",
       "      <td>Man on T.V.</td>\n",
       "      <td>3.0</td>\n",
       "    </tr>\n",
       "    <tr>\n",
       "      <th>1372416</th>\n",
       "      <td>Sleuth</td>\n",
       "      <td>1972</td>\n",
       "      <td>John (II) Matthews</td>\n",
       "      <td>actor</td>\n",
       "      <td>Detective Sergeant Tarrant</td>\n",
       "      <td>4.0</td>\n",
       "    </tr>\n",
       "    <tr>\n",
       "      <th>2543628</th>\n",
       "      <td>Sleuth</td>\n",
       "      <td>1972</td>\n",
       "      <td>Eve (III) Channing</td>\n",
       "      <td>actress</td>\n",
       "      <td>Marguerite Wyke</td>\n",
       "      <td>5.0</td>\n",
       "    </tr>\n",
       "    <tr>\n",
       "      <th>1356873</th>\n",
       "      <td>Sleuth</td>\n",
       "      <td>1972</td>\n",
       "      <td>Teddy Martin</td>\n",
       "      <td>actor</td>\n",
       "      <td>Police Constable Higgs</td>\n",
       "      <td>6.0</td>\n",
       "    </tr>\n",
       "  </tbody>\n",
       "</table>\n",
       "</div>"
      ],
      "text/plain": [
       "          title  year                name     type  \\\n",
       "305322   Sleuth  2007       Michael Caine    actor   \n",
       "1597654  Sleuth  1972    Laurence Olivier    actor   \n",
       "305321   Sleuth  1972       Michael Caine    actor   \n",
       "1211192  Sleuth  2007            Jude Law    actor   \n",
       "349710   Sleuth  1972      Alec Cawthorne    actor   \n",
       "1691641  Sleuth  2007       Harold Pinter    actor   \n",
       "1372416  Sleuth  1972  John (II) Matthews    actor   \n",
       "2543628  Sleuth  1972  Eve (III) Channing  actress   \n",
       "1356873  Sleuth  1972        Teddy Martin    actor   \n",
       "\n",
       "                          character    n  \n",
       "305322                       Andrew  1.0  \n",
       "1597654                 Andrew Wyke  1.0  \n",
       "305321                  Milo Tindle  2.0  \n",
       "1211192                        Milo  2.0  \n",
       "349710            Inspector Doppler  3.0  \n",
       "1691641                 Man on T.V.  3.0  \n",
       "1372416  Detective Sergeant Tarrant  4.0  \n",
       "2543628             Marguerite Wyke  5.0  \n",
       "1356873      Police Constable Higgs  6.0  "
      ]
     },
     "execution_count": 26,
     "metadata": {},
     "output_type": "execute_result"
    }
   ],
   "source": [
    "sleuth_cast[sleuth_cast.n.notnull()].sort_values('n')"
   ]
  },
  {
   "cell_type": "markdown",
   "metadata": {
    "collapsed": true
   },
   "source": [
    "### Now display the entire cast, in \"n\"-order, of the 2007 version of \"Sleuth\"."
   ]
  },
  {
   "cell_type": "code",
   "execution_count": 27,
   "metadata": {
    "collapsed": false
   },
   "outputs": [],
   "source": [
    "sleuth_cast_2007 = sleuth_cast[sleuth_cast.year == 2007]"
   ]
  },
  {
   "cell_type": "code",
   "execution_count": 28,
   "metadata": {
    "collapsed": false
   },
   "outputs": [
    {
     "data": {
      "text/html": [
       "<div>\n",
       "<table border=\"1\" class=\"dataframe\">\n",
       "  <thead>\n",
       "    <tr style=\"text-align: right;\">\n",
       "      <th></th>\n",
       "      <th>title</th>\n",
       "      <th>year</th>\n",
       "      <th>name</th>\n",
       "      <th>type</th>\n",
       "      <th>character</th>\n",
       "      <th>n</th>\n",
       "    </tr>\n",
       "  </thead>\n",
       "  <tbody>\n",
       "    <tr>\n",
       "      <th>305322</th>\n",
       "      <td>Sleuth</td>\n",
       "      <td>2007</td>\n",
       "      <td>Michael Caine</td>\n",
       "      <td>actor</td>\n",
       "      <td>Andrew</td>\n",
       "      <td>1.0</td>\n",
       "    </tr>\n",
       "    <tr>\n",
       "      <th>1211192</th>\n",
       "      <td>Sleuth</td>\n",
       "      <td>2007</td>\n",
       "      <td>Jude Law</td>\n",
       "      <td>actor</td>\n",
       "      <td>Milo</td>\n",
       "      <td>2.0</td>\n",
       "    </tr>\n",
       "    <tr>\n",
       "      <th>1691641</th>\n",
       "      <td>Sleuth</td>\n",
       "      <td>2007</td>\n",
       "      <td>Harold Pinter</td>\n",
       "      <td>actor</td>\n",
       "      <td>Man on T.V.</td>\n",
       "      <td>3.0</td>\n",
       "    </tr>\n",
       "  </tbody>\n",
       "</table>\n",
       "</div>"
      ],
      "text/plain": [
       "          title  year           name   type    character    n\n",
       "305322   Sleuth  2007  Michael Caine  actor       Andrew  1.0\n",
       "1211192  Sleuth  2007       Jude Law  actor         Milo  2.0\n",
       "1691641  Sleuth  2007  Harold Pinter  actor  Man on T.V.  3.0"
      ]
     },
     "execution_count": 28,
     "metadata": {},
     "output_type": "execute_result"
    }
   ],
   "source": [
    "sleuth_cast_2007[sleuth_cast_2007.n.notnull()].sort_values('n')"
   ]
  },
  {
   "cell_type": "markdown",
   "metadata": {
    "collapsed": true
   },
   "source": [
    "### How many roles were credited in the silent 1921 version of Hamlet?"
   ]
  },
  {
   "cell_type": "code",
   "execution_count": 29,
   "metadata": {
    "collapsed": true
   },
   "outputs": [],
   "source": [
    "hamlet_1921 = cast[(cast.title == \"Hamlet\") & (cast.year == 1921)]"
   ]
  },
  {
   "cell_type": "code",
   "execution_count": 37,
   "metadata": {
    "collapsed": false
   },
   "outputs": [
    {
     "data": {
      "text/plain": [
       "9"
      ]
     },
     "execution_count": 37,
     "metadata": {},
     "output_type": "execute_result"
    }
   ],
   "source": [
    "len(hamlet_1921)"
   ]
  },
  {
   "cell_type": "markdown",
   "metadata": {
    "collapsed": true
   },
   "source": [
    "### How many roles were credited in Branagh’s 1996 Hamlet?"
   ]
  },
  {
   "cell_type": "code",
   "execution_count": 34,
   "metadata": {
    "collapsed": true
   },
   "outputs": [],
   "source": [
    "hamlet_1996 = cast[(cast.title == \"Hamlet\") & (cast.year == 1996)]"
   ]
  },
  {
   "cell_type": "code",
   "execution_count": 35,
   "metadata": {
    "collapsed": false
   },
   "outputs": [
    {
     "data": {
      "text/plain": [
       "54"
      ]
     },
     "execution_count": 35,
     "metadata": {},
     "output_type": "execute_result"
    }
   ],
   "source": [
    "len(hamlet_1996)"
   ]
  },
  {
   "cell_type": "code",
   "execution_count": null,
   "metadata": {
    "collapsed": true
   },
   "outputs": [],
   "source": []
  },
  {
   "cell_type": "markdown",
   "metadata": {
    "collapsed": true
   },
   "source": [
    "### How many \"Hamlet\" roles have been listed in all film credits through history?"
   ]
  },
  {
   "cell_type": "code",
   "execution_count": 38,
   "metadata": {
    "collapsed": false
   },
   "outputs": [
    {
     "data": {
      "text/plain": [
       "313"
      ]
     },
     "execution_count": 38,
     "metadata": {},
     "output_type": "execute_result"
    }
   ],
   "source": [
    "hamlet_roles = cast[cast.title == \"Hamlet\"]\n",
    "len(hamlet_roles)"
   ]
  },
  {
   "cell_type": "code",
   "execution_count": null,
   "metadata": {
    "collapsed": true
   },
   "outputs": [],
   "source": []
  },
  {
   "cell_type": "markdown",
   "metadata": {
    "collapsed": true
   },
   "source": [
    "### How many people have played an \"Ophelia\"?"
   ]
  },
  {
   "cell_type": "code",
   "execution_count": 39,
   "metadata": {
    "collapsed": false
   },
   "outputs": [
    {
     "data": {
      "text/plain": [
       "102"
      ]
     },
     "execution_count": 39,
     "metadata": {},
     "output_type": "execute_result"
    }
   ],
   "source": [
    "ophelia = cast[cast.character == \"Ophelia\"]\n",
    "len(ophelia)"
   ]
  },
  {
   "cell_type": "code",
   "execution_count": null,
   "metadata": {
    "collapsed": true
   },
   "outputs": [],
   "source": []
  },
  {
   "cell_type": "markdown",
   "metadata": {
    "collapsed": true
   },
   "source": [
    "### How many people have played a role called \"The Dude\"?"
   ]
  },
  {
   "cell_type": "code",
   "execution_count": 40,
   "metadata": {
    "collapsed": false
   },
   "outputs": [
    {
     "data": {
      "text/html": [
       "<div>\n",
       "<table border=\"1\" class=\"dataframe\">\n",
       "  <thead>\n",
       "    <tr style=\"text-align: right;\">\n",
       "      <th></th>\n",
       "      <th>title</th>\n",
       "      <th>year</th>\n",
       "      <th>name</th>\n",
       "      <th>type</th>\n",
       "      <th>character</th>\n",
       "      <th>n</th>\n",
       "    </tr>\n",
       "  </thead>\n",
       "  <tbody>\n",
       "    <tr>\n",
       "      <th>253887</th>\n",
       "      <td>The Big Lebowski</td>\n",
       "      <td>1998</td>\n",
       "      <td>Jeff Bridges</td>\n",
       "      <td>actor</td>\n",
       "      <td>The Dude</td>\n",
       "      <td>1.0</td>\n",
       "    </tr>\n",
       "    <tr>\n",
       "      <th>317156</th>\n",
       "      <td>Terms &amp; Conditions</td>\n",
       "      <td>2015</td>\n",
       "      <td>Jordan Cann</td>\n",
       "      <td>actor</td>\n",
       "      <td>The Dude</td>\n",
       "      <td>9.0</td>\n",
       "    </tr>\n",
       "    <tr>\n",
       "      <th>466923</th>\n",
       "      <td>Stranger</td>\n",
       "      <td>2000</td>\n",
       "      <td>Scott Crowell</td>\n",
       "      <td>actor</td>\n",
       "      <td>The Dude</td>\n",
       "      <td>NaN</td>\n",
       "    </tr>\n",
       "    <tr>\n",
       "      <th>534106</th>\n",
       "      <td>Pizza Man vs. the Dude</td>\n",
       "      <td>2004</td>\n",
       "      <td>Chris DeMarcus</td>\n",
       "      <td>actor</td>\n",
       "      <td>The Dude</td>\n",
       "      <td>NaN</td>\n",
       "    </tr>\n",
       "    <tr>\n",
       "      <th>572030</th>\n",
       "      <td>Sweepstakes</td>\n",
       "      <td>1931</td>\n",
       "      <td>Mike Donlin</td>\n",
       "      <td>actor</td>\n",
       "      <td>The Dude</td>\n",
       "      <td>12.0</td>\n",
       "    </tr>\n",
       "    <tr>\n",
       "      <th>589735</th>\n",
       "      <td>Self Helpless</td>\n",
       "      <td>2010</td>\n",
       "      <td>Devin The Dude</td>\n",
       "      <td>actor</td>\n",
       "      <td>The Dude</td>\n",
       "      <td>NaN</td>\n",
       "    </tr>\n",
       "    <tr>\n",
       "      <th>1021601</th>\n",
       "      <td>Jay and Silent Bob Strike Back</td>\n",
       "      <td>2001</td>\n",
       "      <td>Matthew (XIX) James</td>\n",
       "      <td>actor</td>\n",
       "      <td>The Dude</td>\n",
       "      <td>37.0</td>\n",
       "    </tr>\n",
       "    <tr>\n",
       "      <th>1067492</th>\n",
       "      <td>Explicit Ills</td>\n",
       "      <td>2008</td>\n",
       "      <td>Christopher Kadish</td>\n",
       "      <td>actor</td>\n",
       "      <td>The Dude</td>\n",
       "      <td>27.0</td>\n",
       "    </tr>\n",
       "    <tr>\n",
       "      <th>1280183</th>\n",
       "      <td>American Idiots</td>\n",
       "      <td>2013</td>\n",
       "      <td>Jason Loughridge</td>\n",
       "      <td>actor</td>\n",
       "      <td>The Dude</td>\n",
       "      <td>10.0</td>\n",
       "    </tr>\n",
       "    <tr>\n",
       "      <th>1298452</th>\n",
       "      <td>The Winds of Autumn</td>\n",
       "      <td>1976</td>\n",
       "      <td>Steve Lyons</td>\n",
       "      <td>actor</td>\n",
       "      <td>The Dude</td>\n",
       "      <td>30.0</td>\n",
       "    </tr>\n",
       "    <tr>\n",
       "      <th>1417156</th>\n",
       "      <td>The Liq</td>\n",
       "      <td>2016</td>\n",
       "      <td>Mark Alan Meek</td>\n",
       "      <td>actor</td>\n",
       "      <td>The Dude</td>\n",
       "      <td>NaN</td>\n",
       "    </tr>\n",
       "    <tr>\n",
       "      <th>1443707</th>\n",
       "      <td>Wild Oats Lane</td>\n",
       "      <td>1926</td>\n",
       "      <td>Jerry Miley</td>\n",
       "      <td>actor</td>\n",
       "      <td>The Dude</td>\n",
       "      <td>6.0</td>\n",
       "    </tr>\n",
       "    <tr>\n",
       "      <th>1671529</th>\n",
       "      <td>Oklahoma Badlands</td>\n",
       "      <td>1948</td>\n",
       "      <td>House Peters Jr.</td>\n",
       "      <td>actor</td>\n",
       "      <td>The Dude</td>\n",
       "      <td>13.0</td>\n",
       "    </tr>\n",
       "    <tr>\n",
       "      <th>1722455</th>\n",
       "      <td>Hacks</td>\n",
       "      <td>1997</td>\n",
       "      <td>Jason Priestley</td>\n",
       "      <td>actor</td>\n",
       "      <td>The Dude</td>\n",
       "      <td>11.0</td>\n",
       "    </tr>\n",
       "    <tr>\n",
       "      <th>2061717</th>\n",
       "      <td>Carlos Spills the Beans</td>\n",
       "      <td>2012</td>\n",
       "      <td>Bobby Styles</td>\n",
       "      <td>actor</td>\n",
       "      <td>The Dude</td>\n",
       "      <td>NaN</td>\n",
       "    </tr>\n",
       "    <tr>\n",
       "      <th>2186330</th>\n",
       "      <td>Zachariah</td>\n",
       "      <td>1971</td>\n",
       "      <td>Dick Van Patten</td>\n",
       "      <td>actor</td>\n",
       "      <td>The Dude</td>\n",
       "      <td>9.0</td>\n",
       "    </tr>\n",
       "    <tr>\n",
       "      <th>2264060</th>\n",
       "      <td>It Can Be Arranged</td>\n",
       "      <td>2010</td>\n",
       "      <td>Joel Weiss</td>\n",
       "      <td>actor</td>\n",
       "      <td>The Dude</td>\n",
       "      <td>NaN</td>\n",
       "    </tr>\n",
       "  </tbody>\n",
       "</table>\n",
       "</div>"
      ],
      "text/plain": [
       "                                  title  year                 name   type  \\\n",
       "253887                 The Big Lebowski  1998         Jeff Bridges  actor   \n",
       "317156               Terms & Conditions  2015          Jordan Cann  actor   \n",
       "466923                         Stranger  2000        Scott Crowell  actor   \n",
       "534106           Pizza Man vs. the Dude  2004       Chris DeMarcus  actor   \n",
       "572030                      Sweepstakes  1931          Mike Donlin  actor   \n",
       "589735                    Self Helpless  2010       Devin The Dude  actor   \n",
       "1021601  Jay and Silent Bob Strike Back  2001  Matthew (XIX) James  actor   \n",
       "1067492                   Explicit Ills  2008   Christopher Kadish  actor   \n",
       "1280183                 American Idiots  2013     Jason Loughridge  actor   \n",
       "1298452             The Winds of Autumn  1976          Steve Lyons  actor   \n",
       "1417156                         The Liq  2016       Mark Alan Meek  actor   \n",
       "1443707                  Wild Oats Lane  1926          Jerry Miley  actor   \n",
       "1671529               Oklahoma Badlands  1948     House Peters Jr.  actor   \n",
       "1722455                           Hacks  1997      Jason Priestley  actor   \n",
       "2061717         Carlos Spills the Beans  2012         Bobby Styles  actor   \n",
       "2186330                       Zachariah  1971      Dick Van Patten  actor   \n",
       "2264060              It Can Be Arranged  2010           Joel Weiss  actor   \n",
       "\n",
       "        character     n  \n",
       "253887   The Dude   1.0  \n",
       "317156   The Dude   9.0  \n",
       "466923   The Dude   NaN  \n",
       "534106   The Dude   NaN  \n",
       "572030   The Dude  12.0  \n",
       "589735   The Dude   NaN  \n",
       "1021601  The Dude  37.0  \n",
       "1067492  The Dude  27.0  \n",
       "1280183  The Dude  10.0  \n",
       "1298452  The Dude  30.0  \n",
       "1417156  The Dude   NaN  \n",
       "1443707  The Dude   6.0  \n",
       "1671529  The Dude  13.0  \n",
       "1722455  The Dude  11.0  \n",
       "2061717  The Dude   NaN  \n",
       "2186330  The Dude   9.0  \n",
       "2264060  The Dude   NaN  "
      ]
     },
     "execution_count": 40,
     "metadata": {},
     "output_type": "execute_result"
    }
   ],
   "source": [
    "the_dude = cast[cast.character == \"The Dude\"]\n",
    "the_dude"
   ]
  },
  {
   "cell_type": "code",
   "execution_count": 41,
   "metadata": {
    "collapsed": false
   },
   "outputs": [
    {
     "data": {
      "text/plain": [
       "17"
      ]
     },
     "execution_count": 41,
     "metadata": {},
     "output_type": "execute_result"
    }
   ],
   "source": [
    "len(the_dude)"
   ]
  },
  {
   "cell_type": "markdown",
   "metadata": {
    "collapsed": true
   },
   "source": [
    "### How many people have played a role called \"The Stranger\"?"
   ]
  },
  {
   "cell_type": "code",
   "execution_count": 42,
   "metadata": {
    "collapsed": false
   },
   "outputs": [
    {
     "data": {
      "text/plain": [
       "206"
      ]
     },
     "execution_count": 42,
     "metadata": {},
     "output_type": "execute_result"
    }
   ],
   "source": [
    "the_stranger = cast[cast.character == \"The Stranger\"]\n",
    "len(the_stranger)"
   ]
  },
  {
   "cell_type": "code",
   "execution_count": null,
   "metadata": {
    "collapsed": true
   },
   "outputs": [],
   "source": []
  },
  {
   "cell_type": "markdown",
   "metadata": {
    "collapsed": true
   },
   "source": [
    "### How many roles has Sidney Poitier played throughout his career?"
   ]
  },
  {
   "cell_type": "code",
   "execution_count": 43,
   "metadata": {
    "collapsed": false
   },
   "outputs": [
    {
     "data": {
      "text/html": [
       "<div>\n",
       "<table border=\"1\" class=\"dataframe\">\n",
       "  <thead>\n",
       "    <tr style=\"text-align: right;\">\n",
       "      <th></th>\n",
       "      <th>title</th>\n",
       "      <th>year</th>\n",
       "      <th>name</th>\n",
       "      <th>type</th>\n",
       "      <th>character</th>\n",
       "      <th>n</th>\n",
       "    </tr>\n",
       "  </thead>\n",
       "  <tbody>\n",
       "    <tr>\n",
       "      <th>1701274</th>\n",
       "      <td>A Patch of Blue</td>\n",
       "      <td>1965</td>\n",
       "      <td>Sidney Poitier</td>\n",
       "      <td>actor</td>\n",
       "      <td>Gordon Ralfe</td>\n",
       "      <td>1.0</td>\n",
       "    </tr>\n",
       "    <tr>\n",
       "      <th>1701275</th>\n",
       "      <td>A Piece of the Action</td>\n",
       "      <td>1977</td>\n",
       "      <td>Sidney Poitier</td>\n",
       "      <td>actor</td>\n",
       "      <td>Manny Durrell</td>\n",
       "      <td>1.0</td>\n",
       "    </tr>\n",
       "    <tr>\n",
       "      <th>1701276</th>\n",
       "      <td>A Raisin in the Sun</td>\n",
       "      <td>1961</td>\n",
       "      <td>Sidney Poitier</td>\n",
       "      <td>actor</td>\n",
       "      <td>Walter Lee Younger</td>\n",
       "      <td>1.0</td>\n",
       "    </tr>\n",
       "    <tr>\n",
       "      <th>1701277</th>\n",
       "      <td>A Warm December</td>\n",
       "      <td>1973</td>\n",
       "      <td>Sidney Poitier</td>\n",
       "      <td>actor</td>\n",
       "      <td>Dr. Matt Younger</td>\n",
       "      <td>1.0</td>\n",
       "    </tr>\n",
       "    <tr>\n",
       "      <th>1701278</th>\n",
       "      <td>All the Young Men</td>\n",
       "      <td>1960</td>\n",
       "      <td>Sidney Poitier</td>\n",
       "      <td>actor</td>\n",
       "      <td>Sgt. Eddie Towler</td>\n",
       "      <td>2.0</td>\n",
       "    </tr>\n",
       "    <tr>\n",
       "      <th>1701279</th>\n",
       "      <td>Band of Angels</td>\n",
       "      <td>1957</td>\n",
       "      <td>Sidney Poitier</td>\n",
       "      <td>actor</td>\n",
       "      <td>Rau-Ru</td>\n",
       "      <td>3.0</td>\n",
       "    </tr>\n",
       "    <tr>\n",
       "      <th>1701280</th>\n",
       "      <td>Blackboard Jungle</td>\n",
       "      <td>1955</td>\n",
       "      <td>Sidney Poitier</td>\n",
       "      <td>actor</td>\n",
       "      <td>Gregory W. Miller</td>\n",
       "      <td>10.0</td>\n",
       "    </tr>\n",
       "    <tr>\n",
       "      <th>1701281</th>\n",
       "      <td>Brother John</td>\n",
       "      <td>1971</td>\n",
       "      <td>Sidney Poitier</td>\n",
       "      <td>actor</td>\n",
       "      <td>John Kane</td>\n",
       "      <td>1.0</td>\n",
       "    </tr>\n",
       "    <tr>\n",
       "      <th>1701282</th>\n",
       "      <td>Buck and the Preacher</td>\n",
       "      <td>1972</td>\n",
       "      <td>Sidney Poitier</td>\n",
       "      <td>actor</td>\n",
       "      <td>Buck</td>\n",
       "      <td>1.0</td>\n",
       "    </tr>\n",
       "    <tr>\n",
       "      <th>1701283</th>\n",
       "      <td>Cry, the Beloved Country</td>\n",
       "      <td>1951</td>\n",
       "      <td>Sidney Poitier</td>\n",
       "      <td>actor</td>\n",
       "      <td>Reverend Msimangu</td>\n",
       "      <td>3.0</td>\n",
       "    </tr>\n",
       "    <tr>\n",
       "      <th>1701284</th>\n",
       "      <td>Duel at Diablo</td>\n",
       "      <td>1966</td>\n",
       "      <td>Sidney Poitier</td>\n",
       "      <td>actor</td>\n",
       "      <td>Toller</td>\n",
       "      <td>2.0</td>\n",
       "    </tr>\n",
       "    <tr>\n",
       "      <th>1701285</th>\n",
       "      <td>Edge of the City</td>\n",
       "      <td>1957</td>\n",
       "      <td>Sidney Poitier</td>\n",
       "      <td>actor</td>\n",
       "      <td>Tommy Tyler</td>\n",
       "      <td>2.0</td>\n",
       "    </tr>\n",
       "    <tr>\n",
       "      <th>1701286</th>\n",
       "      <td>For Love of Ivy</td>\n",
       "      <td>1968</td>\n",
       "      <td>Sidney Poitier</td>\n",
       "      <td>actor</td>\n",
       "      <td>Jack Parks</td>\n",
       "      <td>1.0</td>\n",
       "    </tr>\n",
       "    <tr>\n",
       "      <th>1701287</th>\n",
       "      <td>Go Man Go</td>\n",
       "      <td>1954</td>\n",
       "      <td>Sidney Poitier</td>\n",
       "      <td>actor</td>\n",
       "      <td>Inman Jackson</td>\n",
       "      <td>3.0</td>\n",
       "    </tr>\n",
       "    <tr>\n",
       "      <th>1701288</th>\n",
       "      <td>Good-bye, My Lady</td>\n",
       "      <td>1956</td>\n",
       "      <td>Sidney Poitier</td>\n",
       "      <td>actor</td>\n",
       "      <td>Gates Watson</td>\n",
       "      <td>4.0</td>\n",
       "    </tr>\n",
       "    <tr>\n",
       "      <th>1701289</th>\n",
       "      <td>Guess Who's Coming to Dinner</td>\n",
       "      <td>1967</td>\n",
       "      <td>Sidney Poitier</td>\n",
       "      <td>actor</td>\n",
       "      <td>John Prentice</td>\n",
       "      <td>2.0</td>\n",
       "    </tr>\n",
       "    <tr>\n",
       "      <th>1701290</th>\n",
       "      <td>In the Heat of the Night</td>\n",
       "      <td>1967</td>\n",
       "      <td>Sidney Poitier</td>\n",
       "      <td>actor</td>\n",
       "      <td>Virgil Tibbs</td>\n",
       "      <td>1.0</td>\n",
       "    </tr>\n",
       "    <tr>\n",
       "      <th>1701291</th>\n",
       "      <td>Let's Do It Again</td>\n",
       "      <td>1975</td>\n",
       "      <td>Sidney Poitier</td>\n",
       "      <td>actor</td>\n",
       "      <td>Clyde Williams</td>\n",
       "      <td>1.0</td>\n",
       "    </tr>\n",
       "    <tr>\n",
       "      <th>1701292</th>\n",
       "      <td>Lilies of the Field</td>\n",
       "      <td>1963</td>\n",
       "      <td>Sidney Poitier</td>\n",
       "      <td>actor</td>\n",
       "      <td>Homer Smith</td>\n",
       "      <td>1.0</td>\n",
       "    </tr>\n",
       "    <tr>\n",
       "      <th>1701293</th>\n",
       "      <td>Little Nikita</td>\n",
       "      <td>1988</td>\n",
       "      <td>Sidney Poitier</td>\n",
       "      <td>actor</td>\n",
       "      <td>Roy Parmenter</td>\n",
       "      <td>1.0</td>\n",
       "    </tr>\n",
       "    <tr>\n",
       "      <th>1701294</th>\n",
       "      <td>No Way Out</td>\n",
       "      <td>1950</td>\n",
       "      <td>Sidney Poitier</td>\n",
       "      <td>actor</td>\n",
       "      <td>Dr. Luther Brooks</td>\n",
       "      <td>4.0</td>\n",
       "    </tr>\n",
       "    <tr>\n",
       "      <th>1701295</th>\n",
       "      <td>Paris Blues</td>\n",
       "      <td>1961</td>\n",
       "      <td>Sidney Poitier</td>\n",
       "      <td>actor</td>\n",
       "      <td>Eddie Cook</td>\n",
       "      <td>3.0</td>\n",
       "    </tr>\n",
       "    <tr>\n",
       "      <th>1701296</th>\n",
       "      <td>Porgy and Bess</td>\n",
       "      <td>1959</td>\n",
       "      <td>Sidney Poitier</td>\n",
       "      <td>actor</td>\n",
       "      <td>Porgy</td>\n",
       "      <td>1.0</td>\n",
       "    </tr>\n",
       "    <tr>\n",
       "      <th>1701297</th>\n",
       "      <td>Pressure Point</td>\n",
       "      <td>1962</td>\n",
       "      <td>Sidney Poitier</td>\n",
       "      <td>actor</td>\n",
       "      <td>Doctor</td>\n",
       "      <td>1.0</td>\n",
       "    </tr>\n",
       "    <tr>\n",
       "      <th>1701298</th>\n",
       "      <td>Red Ball Express</td>\n",
       "      <td>1952</td>\n",
       "      <td>Sidney Poitier</td>\n",
       "      <td>actor</td>\n",
       "      <td>Robertson</td>\n",
       "      <td>5.0</td>\n",
       "    </tr>\n",
       "    <tr>\n",
       "      <th>1701299</th>\n",
       "      <td>Sepia Cinderella</td>\n",
       "      <td>1947</td>\n",
       "      <td>Sidney Poitier</td>\n",
       "      <td>actor</td>\n",
       "      <td>Night Club Extra</td>\n",
       "      <td>NaN</td>\n",
       "    </tr>\n",
       "    <tr>\n",
       "      <th>1701300</th>\n",
       "      <td>Shoot to Kill</td>\n",
       "      <td>1988</td>\n",
       "      <td>Sidney Poitier</td>\n",
       "      <td>actor</td>\n",
       "      <td>Warren Stantin</td>\n",
       "      <td>1.0</td>\n",
       "    </tr>\n",
       "    <tr>\n",
       "      <th>1701301</th>\n",
       "      <td>Sneakers</td>\n",
       "      <td>1992</td>\n",
       "      <td>Sidney Poitier</td>\n",
       "      <td>actor</td>\n",
       "      <td>Donald Crease</td>\n",
       "      <td>4.0</td>\n",
       "    </tr>\n",
       "    <tr>\n",
       "      <th>1701302</th>\n",
       "      <td>Something of Value</td>\n",
       "      <td>1957</td>\n",
       "      <td>Sidney Poitier</td>\n",
       "      <td>actor</td>\n",
       "      <td>Kimani Wa Karanja</td>\n",
       "      <td>13.0</td>\n",
       "    </tr>\n",
       "    <tr>\n",
       "      <th>1701303</th>\n",
       "      <td>The Bedford Incident</td>\n",
       "      <td>1965</td>\n",
       "      <td>Sidney Poitier</td>\n",
       "      <td>actor</td>\n",
       "      <td>Ben Munceford</td>\n",
       "      <td>2.0</td>\n",
       "    </tr>\n",
       "    <tr>\n",
       "      <th>1701304</th>\n",
       "      <td>The Defiant Ones</td>\n",
       "      <td>1958</td>\n",
       "      <td>Sidney Poitier</td>\n",
       "      <td>actor</td>\n",
       "      <td>Noah Cullen</td>\n",
       "      <td>2.0</td>\n",
       "    </tr>\n",
       "    <tr>\n",
       "      <th>1701305</th>\n",
       "      <td>The Greatest Story Ever Told</td>\n",
       "      <td>1965</td>\n",
       "      <td>Sidney Poitier</td>\n",
       "      <td>actor</td>\n",
       "      <td>Simon of Cyrene</td>\n",
       "      <td>21.0</td>\n",
       "    </tr>\n",
       "    <tr>\n",
       "      <th>1701306</th>\n",
       "      <td>The Jackal</td>\n",
       "      <td>1997</td>\n",
       "      <td>Sidney Poitier</td>\n",
       "      <td>actor</td>\n",
       "      <td>FBI Deputy Director Carter Preston</td>\n",
       "      <td>3.0</td>\n",
       "    </tr>\n",
       "    <tr>\n",
       "      <th>1701307</th>\n",
       "      <td>The Long Ships</td>\n",
       "      <td>1964</td>\n",
       "      <td>Sidney Poitier</td>\n",
       "      <td>actor</td>\n",
       "      <td>Aly Mansuh</td>\n",
       "      <td>2.0</td>\n",
       "    </tr>\n",
       "    <tr>\n",
       "      <th>1701308</th>\n",
       "      <td>The Lost Man</td>\n",
       "      <td>1969</td>\n",
       "      <td>Sidney Poitier</td>\n",
       "      <td>actor</td>\n",
       "      <td>Jason Higgs</td>\n",
       "      <td>1.0</td>\n",
       "    </tr>\n",
       "    <tr>\n",
       "      <th>1701309</th>\n",
       "      <td>The Mark of the Hawk</td>\n",
       "      <td>1957</td>\n",
       "      <td>Sidney Poitier</td>\n",
       "      <td>actor</td>\n",
       "      <td>Obam</td>\n",
       "      <td>2.0</td>\n",
       "    </tr>\n",
       "    <tr>\n",
       "      <th>1701310</th>\n",
       "      <td>The Organization</td>\n",
       "      <td>1971</td>\n",
       "      <td>Sidney Poitier</td>\n",
       "      <td>actor</td>\n",
       "      <td>Virgil Tibbs</td>\n",
       "      <td>1.0</td>\n",
       "    </tr>\n",
       "    <tr>\n",
       "      <th>1701311</th>\n",
       "      <td>The Slender Thread</td>\n",
       "      <td>1965</td>\n",
       "      <td>Sidney Poitier</td>\n",
       "      <td>actor</td>\n",
       "      <td>Alan Newell</td>\n",
       "      <td>1.0</td>\n",
       "    </tr>\n",
       "    <tr>\n",
       "      <th>1701312</th>\n",
       "      <td>The Wilby Conspiracy</td>\n",
       "      <td>1975</td>\n",
       "      <td>Sidney Poitier</td>\n",
       "      <td>actor</td>\n",
       "      <td>Shack Twala</td>\n",
       "      <td>1.0</td>\n",
       "    </tr>\n",
       "    <tr>\n",
       "      <th>1701313</th>\n",
       "      <td>They Call Me Mister Tibbs!</td>\n",
       "      <td>1970</td>\n",
       "      <td>Sidney Poitier</td>\n",
       "      <td>actor</td>\n",
       "      <td>Virgil Tibbs</td>\n",
       "      <td>1.0</td>\n",
       "    </tr>\n",
       "    <tr>\n",
       "      <th>1701314</th>\n",
       "      <td>To Sir, with Love</td>\n",
       "      <td>1967</td>\n",
       "      <td>Sidney Poitier</td>\n",
       "      <td>actor</td>\n",
       "      <td>Mark Thackeray</td>\n",
       "      <td>1.0</td>\n",
       "    </tr>\n",
       "    <tr>\n",
       "      <th>1701315</th>\n",
       "      <td>Uptown Saturday Night</td>\n",
       "      <td>1974</td>\n",
       "      <td>Sidney Poitier</td>\n",
       "      <td>actor</td>\n",
       "      <td>Steve Jackson</td>\n",
       "      <td>1.0</td>\n",
       "    </tr>\n",
       "    <tr>\n",
       "      <th>1701316</th>\n",
       "      <td>Virgin Island</td>\n",
       "      <td>1958</td>\n",
       "      <td>Sidney Poitier</td>\n",
       "      <td>actor</td>\n",
       "      <td>Marcus</td>\n",
       "      <td>3.0</td>\n",
       "    </tr>\n",
       "  </tbody>\n",
       "</table>\n",
       "</div>"
      ],
      "text/plain": [
       "                                title  year            name   type  \\\n",
       "1701274               A Patch of Blue  1965  Sidney Poitier  actor   \n",
       "1701275         A Piece of the Action  1977  Sidney Poitier  actor   \n",
       "1701276           A Raisin in the Sun  1961  Sidney Poitier  actor   \n",
       "1701277               A Warm December  1973  Sidney Poitier  actor   \n",
       "1701278             All the Young Men  1960  Sidney Poitier  actor   \n",
       "1701279                Band of Angels  1957  Sidney Poitier  actor   \n",
       "1701280             Blackboard Jungle  1955  Sidney Poitier  actor   \n",
       "1701281                  Brother John  1971  Sidney Poitier  actor   \n",
       "1701282         Buck and the Preacher  1972  Sidney Poitier  actor   \n",
       "1701283      Cry, the Beloved Country  1951  Sidney Poitier  actor   \n",
       "1701284                Duel at Diablo  1966  Sidney Poitier  actor   \n",
       "1701285              Edge of the City  1957  Sidney Poitier  actor   \n",
       "1701286               For Love of Ivy  1968  Sidney Poitier  actor   \n",
       "1701287                     Go Man Go  1954  Sidney Poitier  actor   \n",
       "1701288             Good-bye, My Lady  1956  Sidney Poitier  actor   \n",
       "1701289  Guess Who's Coming to Dinner  1967  Sidney Poitier  actor   \n",
       "1701290      In the Heat of the Night  1967  Sidney Poitier  actor   \n",
       "1701291             Let's Do It Again  1975  Sidney Poitier  actor   \n",
       "1701292           Lilies of the Field  1963  Sidney Poitier  actor   \n",
       "1701293                 Little Nikita  1988  Sidney Poitier  actor   \n",
       "1701294                    No Way Out  1950  Sidney Poitier  actor   \n",
       "1701295                   Paris Blues  1961  Sidney Poitier  actor   \n",
       "1701296                Porgy and Bess  1959  Sidney Poitier  actor   \n",
       "1701297                Pressure Point  1962  Sidney Poitier  actor   \n",
       "1701298              Red Ball Express  1952  Sidney Poitier  actor   \n",
       "1701299              Sepia Cinderella  1947  Sidney Poitier  actor   \n",
       "1701300                 Shoot to Kill  1988  Sidney Poitier  actor   \n",
       "1701301                      Sneakers  1992  Sidney Poitier  actor   \n",
       "1701302            Something of Value  1957  Sidney Poitier  actor   \n",
       "1701303          The Bedford Incident  1965  Sidney Poitier  actor   \n",
       "1701304              The Defiant Ones  1958  Sidney Poitier  actor   \n",
       "1701305  The Greatest Story Ever Told  1965  Sidney Poitier  actor   \n",
       "1701306                    The Jackal  1997  Sidney Poitier  actor   \n",
       "1701307                The Long Ships  1964  Sidney Poitier  actor   \n",
       "1701308                  The Lost Man  1969  Sidney Poitier  actor   \n",
       "1701309          The Mark of the Hawk  1957  Sidney Poitier  actor   \n",
       "1701310              The Organization  1971  Sidney Poitier  actor   \n",
       "1701311            The Slender Thread  1965  Sidney Poitier  actor   \n",
       "1701312          The Wilby Conspiracy  1975  Sidney Poitier  actor   \n",
       "1701313    They Call Me Mister Tibbs!  1970  Sidney Poitier  actor   \n",
       "1701314             To Sir, with Love  1967  Sidney Poitier  actor   \n",
       "1701315         Uptown Saturday Night  1974  Sidney Poitier  actor   \n",
       "1701316                 Virgin Island  1958  Sidney Poitier  actor   \n",
       "\n",
       "                                  character     n  \n",
       "1701274                        Gordon Ralfe   1.0  \n",
       "1701275                       Manny Durrell   1.0  \n",
       "1701276                  Walter Lee Younger   1.0  \n",
       "1701277                    Dr. Matt Younger   1.0  \n",
       "1701278                   Sgt. Eddie Towler   2.0  \n",
       "1701279                              Rau-Ru   3.0  \n",
       "1701280                   Gregory W. Miller  10.0  \n",
       "1701281                           John Kane   1.0  \n",
       "1701282                                Buck   1.0  \n",
       "1701283                   Reverend Msimangu   3.0  \n",
       "1701284                              Toller   2.0  \n",
       "1701285                         Tommy Tyler   2.0  \n",
       "1701286                          Jack Parks   1.0  \n",
       "1701287                       Inman Jackson   3.0  \n",
       "1701288                        Gates Watson   4.0  \n",
       "1701289                       John Prentice   2.0  \n",
       "1701290                        Virgil Tibbs   1.0  \n",
       "1701291                      Clyde Williams   1.0  \n",
       "1701292                         Homer Smith   1.0  \n",
       "1701293                       Roy Parmenter   1.0  \n",
       "1701294                   Dr. Luther Brooks   4.0  \n",
       "1701295                          Eddie Cook   3.0  \n",
       "1701296                               Porgy   1.0  \n",
       "1701297                              Doctor   1.0  \n",
       "1701298                           Robertson   5.0  \n",
       "1701299                    Night Club Extra   NaN  \n",
       "1701300                      Warren Stantin   1.0  \n",
       "1701301                       Donald Crease   4.0  \n",
       "1701302                   Kimani Wa Karanja  13.0  \n",
       "1701303                       Ben Munceford   2.0  \n",
       "1701304                         Noah Cullen   2.0  \n",
       "1701305                     Simon of Cyrene  21.0  \n",
       "1701306  FBI Deputy Director Carter Preston   3.0  \n",
       "1701307                          Aly Mansuh   2.0  \n",
       "1701308                         Jason Higgs   1.0  \n",
       "1701309                                Obam   2.0  \n",
       "1701310                        Virgil Tibbs   1.0  \n",
       "1701311                         Alan Newell   1.0  \n",
       "1701312                         Shack Twala   1.0  \n",
       "1701313                        Virgil Tibbs   1.0  \n",
       "1701314                      Mark Thackeray   1.0  \n",
       "1701315                       Steve Jackson   1.0  \n",
       "1701316                              Marcus   3.0  "
      ]
     },
     "execution_count": 43,
     "metadata": {},
     "output_type": "execute_result"
    }
   ],
   "source": [
    "sidney = cast[cast.name == \"Sidney Poitier\"]\n",
    "sidney"
   ]
  },
  {
   "cell_type": "code",
   "execution_count": 44,
   "metadata": {
    "collapsed": false
   },
   "outputs": [
    {
     "data": {
      "text/plain": [
       "43"
      ]
     },
     "execution_count": 44,
     "metadata": {},
     "output_type": "execute_result"
    }
   ],
   "source": [
    "len(sidney)"
   ]
  },
  {
   "cell_type": "markdown",
   "metadata": {
    "collapsed": true
   },
   "source": [
    "### How many roles has Judi Dench played?"
   ]
  },
  {
   "cell_type": "code",
   "execution_count": 45,
   "metadata": {
    "collapsed": false
   },
   "outputs": [
    {
     "data": {
      "text/plain": [
       "54"
      ]
     },
     "execution_count": 45,
     "metadata": {},
     "output_type": "execute_result"
    }
   ],
   "source": [
    "judi_dench = cast[cast.name == \"Judi Dench\"]\n",
    "len(judi_dench)"
   ]
  },
  {
   "cell_type": "code",
   "execution_count": null,
   "metadata": {
    "collapsed": true
   },
   "outputs": [],
   "source": []
  },
  {
   "cell_type": "markdown",
   "metadata": {
    "collapsed": true
   },
   "source": [
    "### List the supporting roles (having n=2) played by Cary Grant in the 1940s, in order by year."
   ]
  },
  {
   "cell_type": "code",
   "execution_count": 47,
   "metadata": {
    "collapsed": false
   },
   "outputs": [
    {
     "data": {
      "text/html": [
       "<div>\n",
       "<table border=\"1\" class=\"dataframe\">\n",
       "  <thead>\n",
       "    <tr style=\"text-align: right;\">\n",
       "      <th></th>\n",
       "      <th>title</th>\n",
       "      <th>year</th>\n",
       "      <th>name</th>\n",
       "      <th>type</th>\n",
       "      <th>character</th>\n",
       "      <th>n</th>\n",
       "    </tr>\n",
       "  </thead>\n",
       "  <tbody>\n",
       "    <tr>\n",
       "      <th>816459</th>\n",
       "      <td>My Favorite Wife</td>\n",
       "      <td>1940</td>\n",
       "      <td>Cary Grant</td>\n",
       "      <td>actor</td>\n",
       "      <td>Nick</td>\n",
       "      <td>2.0</td>\n",
       "    </tr>\n",
       "    <tr>\n",
       "      <th>816469</th>\n",
       "      <td>Penny Serenade</td>\n",
       "      <td>1941</td>\n",
       "      <td>Cary Grant</td>\n",
       "      <td>actor</td>\n",
       "      <td>Roger Adams</td>\n",
       "      <td>2.0</td>\n",
       "    </tr>\n",
       "  </tbody>\n",
       "</table>\n",
       "</div>"
      ],
      "text/plain": [
       "                   title  year        name   type    character    n\n",
       "816459  My Favorite Wife  1940  Cary Grant  actor         Nick  2.0\n",
       "816469    Penny Serenade  1941  Cary Grant  actor  Roger Adams  2.0"
      ]
     },
     "execution_count": 47,
     "metadata": {},
     "output_type": "execute_result"
    }
   ],
   "source": [
    "cary_grant = cast[cast.name == 'Cary Grant']\n",
    "cary_grant[(cary_grant.year >= 1940) & (cary_grant.year < 1950) & (cary_grant.n == 2)].sort_values('year')"
   ]
  },
  {
   "cell_type": "code",
   "execution_count": null,
   "metadata": {
    "collapsed": true
   },
   "outputs": [],
   "source": []
  },
  {
   "cell_type": "markdown",
   "metadata": {
    "collapsed": true
   },
   "source": [
    "### List the leading roles that Cary Grant played in the 1940s in order by year."
   ]
  },
  {
   "cell_type": "code",
   "execution_count": 48,
   "metadata": {
    "collapsed": false
   },
   "outputs": [
    {
     "data": {
      "text/html": [
       "<div>\n",
       "<table border=\"1\" class=\"dataframe\">\n",
       "  <thead>\n",
       "    <tr style=\"text-align: right;\">\n",
       "      <th></th>\n",
       "      <th>title</th>\n",
       "      <th>year</th>\n",
       "      <th>name</th>\n",
       "      <th>type</th>\n",
       "      <th>character</th>\n",
       "      <th>n</th>\n",
       "    </tr>\n",
       "  </thead>\n",
       "  <tbody>\n",
       "    <tr>\n",
       "      <th>816484</th>\n",
       "      <td>The Howards of Virginia</td>\n",
       "      <td>1940</td>\n",
       "      <td>Cary Grant</td>\n",
       "      <td>actor</td>\n",
       "      <td>Matt Howard</td>\n",
       "      <td>1.0</td>\n",
       "    </tr>\n",
       "    <tr>\n",
       "      <th>816441</th>\n",
       "      <td>His Girl Friday</td>\n",
       "      <td>1940</td>\n",
       "      <td>Cary Grant</td>\n",
       "      <td>actor</td>\n",
       "      <td>Walter Burns</td>\n",
       "      <td>1.0</td>\n",
       "    </tr>\n",
       "    <tr>\n",
       "      <th>816486</th>\n",
       "      <td>The Philadelphia Story</td>\n",
       "      <td>1940</td>\n",
       "      <td>Cary Grant</td>\n",
       "      <td>actor</td>\n",
       "      <td>C. K. Dexter Haven</td>\n",
       "      <td>1.0</td>\n",
       "    </tr>\n",
       "    <tr>\n",
       "      <th>816474</th>\n",
       "      <td>Suspicion</td>\n",
       "      <td>1941</td>\n",
       "      <td>Cary Grant</td>\n",
       "      <td>actor</td>\n",
       "      <td>Johnnie</td>\n",
       "      <td>1.0</td>\n",
       "    </tr>\n",
       "    <tr>\n",
       "      <th>816488</th>\n",
       "      <td>The Talk of the Town</td>\n",
       "      <td>1942</td>\n",
       "      <td>Cary Grant</td>\n",
       "      <td>actor</td>\n",
       "      <td>Leopold Dilg</td>\n",
       "      <td>1.0</td>\n",
       "    </tr>\n",
       "    <tr>\n",
       "      <th>816465</th>\n",
       "      <td>Once Upon a Honeymoon</td>\n",
       "      <td>1942</td>\n",
       "      <td>Cary Grant</td>\n",
       "      <td>actor</td>\n",
       "      <td>Patrick 'Pat' O'Toole</td>\n",
       "      <td>1.0</td>\n",
       "    </tr>\n",
       "    <tr>\n",
       "      <th>816432</th>\n",
       "      <td>Destination Tokyo</td>\n",
       "      <td>1943</td>\n",
       "      <td>Cary Grant</td>\n",
       "      <td>actor</td>\n",
       "      <td>Capt. Cassidy</td>\n",
       "      <td>1.0</td>\n",
       "    </tr>\n",
       "    <tr>\n",
       "      <th>816457</th>\n",
       "      <td>Mr. Lucky</td>\n",
       "      <td>1943</td>\n",
       "      <td>Cary Grant</td>\n",
       "      <td>actor</td>\n",
       "      <td>Joe Adams</td>\n",
       "      <td>1.0</td>\n",
       "    </tr>\n",
       "    <tr>\n",
       "      <th>816458</th>\n",
       "      <td>Mr. Lucky</td>\n",
       "      <td>1943</td>\n",
       "      <td>Cary Grant</td>\n",
       "      <td>actor</td>\n",
       "      <td>Joe Bascopolous</td>\n",
       "      <td>1.0</td>\n",
       "    </tr>\n",
       "    <tr>\n",
       "      <th>816466</th>\n",
       "      <td>Once Upon a Time</td>\n",
       "      <td>1944</td>\n",
       "      <td>Cary Grant</td>\n",
       "      <td>actor</td>\n",
       "      <td>Jerry Flynn</td>\n",
       "      <td>1.0</td>\n",
       "    </tr>\n",
       "    <tr>\n",
       "      <th>816424</th>\n",
       "      <td>Arsenic and Old Lace</td>\n",
       "      <td>1944</td>\n",
       "      <td>Cary Grant</td>\n",
       "      <td>actor</td>\n",
       "      <td>Mortimer Brewster</td>\n",
       "      <td>1.0</td>\n",
       "    </tr>\n",
       "    <tr>\n",
       "      <th>816461</th>\n",
       "      <td>None But the Lonely Heart</td>\n",
       "      <td>1944</td>\n",
       "      <td>Cary Grant</td>\n",
       "      <td>actor</td>\n",
       "      <td>Ernie Mott</td>\n",
       "      <td>1.0</td>\n",
       "    </tr>\n",
       "    <tr>\n",
       "      <th>816460</th>\n",
       "      <td>Night and Day</td>\n",
       "      <td>1946</td>\n",
       "      <td>Cary Grant</td>\n",
       "      <td>actor</td>\n",
       "      <td>Cole Porter</td>\n",
       "      <td>1.0</td>\n",
       "    </tr>\n",
       "    <tr>\n",
       "      <th>816463</th>\n",
       "      <td>Notorious</td>\n",
       "      <td>1946</td>\n",
       "      <td>Cary Grant</td>\n",
       "      <td>actor</td>\n",
       "      <td>Devlin</td>\n",
       "      <td>1.0</td>\n",
       "    </tr>\n",
       "    <tr>\n",
       "      <th>816480</th>\n",
       "      <td>The Bachelor and the Bobby-Soxer</td>\n",
       "      <td>1947</td>\n",
       "      <td>Cary Grant</td>\n",
       "      <td>actor</td>\n",
       "      <td>Dick Nugent</td>\n",
       "      <td>1.0</td>\n",
       "    </tr>\n",
       "    <tr>\n",
       "      <th>816481</th>\n",
       "      <td>The Bishop's Wife</td>\n",
       "      <td>1947</td>\n",
       "      <td>Cary Grant</td>\n",
       "      <td>actor</td>\n",
       "      <td>Dudley</td>\n",
       "      <td>1.0</td>\n",
       "    </tr>\n",
       "    <tr>\n",
       "      <th>816456</th>\n",
       "      <td>Mr. Blandings Builds His Dream House</td>\n",
       "      <td>1948</td>\n",
       "      <td>Cary Grant</td>\n",
       "      <td>actor</td>\n",
       "      <td>Jim Blandings</td>\n",
       "      <td>1.0</td>\n",
       "    </tr>\n",
       "    <tr>\n",
       "      <th>816436</th>\n",
       "      <td>Every Girl Should Be Married</td>\n",
       "      <td>1948</td>\n",
       "      <td>Cary Grant</td>\n",
       "      <td>actor</td>\n",
       "      <td>Dr. Madison Brown</td>\n",
       "      <td>1.0</td>\n",
       "    </tr>\n",
       "    <tr>\n",
       "      <th>816445</th>\n",
       "      <td>I Was a Male War Bride</td>\n",
       "      <td>1949</td>\n",
       "      <td>Cary Grant</td>\n",
       "      <td>actor</td>\n",
       "      <td>Capt. Henri Rochard</td>\n",
       "      <td>1.0</td>\n",
       "    </tr>\n",
       "  </tbody>\n",
       "</table>\n",
       "</div>"
      ],
      "text/plain": [
       "                                       title  year        name   type  \\\n",
       "816484               The Howards of Virginia  1940  Cary Grant  actor   \n",
       "816441                       His Girl Friday  1940  Cary Grant  actor   \n",
       "816486                The Philadelphia Story  1940  Cary Grant  actor   \n",
       "816474                             Suspicion  1941  Cary Grant  actor   \n",
       "816488                  The Talk of the Town  1942  Cary Grant  actor   \n",
       "816465                 Once Upon a Honeymoon  1942  Cary Grant  actor   \n",
       "816432                     Destination Tokyo  1943  Cary Grant  actor   \n",
       "816457                             Mr. Lucky  1943  Cary Grant  actor   \n",
       "816458                             Mr. Lucky  1943  Cary Grant  actor   \n",
       "816466                      Once Upon a Time  1944  Cary Grant  actor   \n",
       "816424                  Arsenic and Old Lace  1944  Cary Grant  actor   \n",
       "816461             None But the Lonely Heart  1944  Cary Grant  actor   \n",
       "816460                         Night and Day  1946  Cary Grant  actor   \n",
       "816463                             Notorious  1946  Cary Grant  actor   \n",
       "816480      The Bachelor and the Bobby-Soxer  1947  Cary Grant  actor   \n",
       "816481                     The Bishop's Wife  1947  Cary Grant  actor   \n",
       "816456  Mr. Blandings Builds His Dream House  1948  Cary Grant  actor   \n",
       "816436          Every Girl Should Be Married  1948  Cary Grant  actor   \n",
       "816445                I Was a Male War Bride  1949  Cary Grant  actor   \n",
       "\n",
       "                    character    n  \n",
       "816484            Matt Howard  1.0  \n",
       "816441           Walter Burns  1.0  \n",
       "816486     C. K. Dexter Haven  1.0  \n",
       "816474                Johnnie  1.0  \n",
       "816488           Leopold Dilg  1.0  \n",
       "816465  Patrick 'Pat' O'Toole  1.0  \n",
       "816432          Capt. Cassidy  1.0  \n",
       "816457              Joe Adams  1.0  \n",
       "816458        Joe Bascopolous  1.0  \n",
       "816466            Jerry Flynn  1.0  \n",
       "816424      Mortimer Brewster  1.0  \n",
       "816461             Ernie Mott  1.0  \n",
       "816460            Cole Porter  1.0  \n",
       "816463                 Devlin  1.0  \n",
       "816480            Dick Nugent  1.0  \n",
       "816481                 Dudley  1.0  \n",
       "816456          Jim Blandings  1.0  \n",
       "816436      Dr. Madison Brown  1.0  \n",
       "816445    Capt. Henri Rochard  1.0  "
      ]
     },
     "execution_count": 48,
     "metadata": {},
     "output_type": "execute_result"
    }
   ],
   "source": [
    "cary_grant[(cary_grant.year >= 1940) & (cary_grant.year <= 1949) & (cary_grant.n == 1)].sort_values('year')"
   ]
  },
  {
   "cell_type": "code",
   "execution_count": null,
   "metadata": {
    "collapsed": true
   },
   "outputs": [],
   "source": []
  },
  {
   "cell_type": "markdown",
   "metadata": {
    "collapsed": true
   },
   "source": [
    "### How many roles were available for actors in the 1950s?"
   ]
  },
  {
   "cell_type": "code",
   "execution_count": 49,
   "metadata": {
    "collapsed": false
   },
   "outputs": [
    {
     "data": {
      "text/plain": [
       "208718"
      ]
     },
     "execution_count": 49,
     "metadata": {},
     "output_type": "execute_result"
    }
   ],
   "source": [
    "cast_1950s = cast[(cast.year >= 1950) & (cast.year <= 1959)]\n",
    "len(cast_1950s)"
   ]
  },
  {
   "cell_type": "code",
   "execution_count": null,
   "metadata": {
    "collapsed": true
   },
   "outputs": [],
   "source": []
  },
  {
   "cell_type": "markdown",
   "metadata": {
    "collapsed": true
   },
   "source": [
    "### How many roles were avilable for actresses in the 1950s?"
   ]
  },
  {
   "cell_type": "code",
   "execution_count": 50,
   "metadata": {
    "collapsed": false
   },
   "outputs": [],
   "source": [
    "actresses = cast[cast.type == \"actress\"]"
   ]
  },
  {
   "cell_type": "code",
   "execution_count": 51,
   "metadata": {
    "collapsed": false
   },
   "outputs": [
    {
     "data": {
      "text/plain": [
       "55668"
      ]
     },
     "execution_count": 51,
     "metadata": {},
     "output_type": "execute_result"
    }
   ],
   "source": [
    "len(actresses[(actresses.year >=1950) & (actresses.year < 1960)])"
   ]
  },
  {
   "cell_type": "markdown",
   "metadata": {
    "collapsed": true
   },
   "source": [
    "### How many leading roles (n=1) were available from the beginning of film history through 1980?"
   ]
  },
  {
   "cell_type": "code",
   "execution_count": 52,
   "metadata": {
    "collapsed": false
   },
   "outputs": [
    {
     "data": {
      "text/plain": [
       "63124"
      ]
     },
     "execution_count": 52,
     "metadata": {},
     "output_type": "execute_result"
    }
   ],
   "source": [
    "len(cast[(cast.n == 1) & (cast.year <= 1980)])"
   ]
  },
  {
   "cell_type": "code",
   "execution_count": null,
   "metadata": {
    "collapsed": true
   },
   "outputs": [],
   "source": []
  },
  {
   "cell_type": "markdown",
   "metadata": {
    "collapsed": true
   },
   "source": [
    "### How many non-leading roles were available through from the beginning of film history through 1980?"
   ]
  },
  {
   "cell_type": "code",
   "execution_count": 53,
   "metadata": {
    "collapsed": false
   },
   "outputs": [
    {
     "data": {
      "text/plain": [
       "1081819"
      ]
     },
     "execution_count": 53,
     "metadata": {},
     "output_type": "execute_result"
    }
   ],
   "source": [
    "len(cast[(cast.n != 1) & (cast.year <= 1980)])"
   ]
  },
  {
   "cell_type": "code",
   "execution_count": null,
   "metadata": {
    "collapsed": true
   },
   "outputs": [],
   "source": []
  },
  {
   "cell_type": "markdown",
   "metadata": {
    "collapsed": true
   },
   "source": [
    "### How many roles through 1980 were minor enough that they did not warrant a numeric \"n\" rank?"
   ]
  },
  {
   "cell_type": "code",
   "execution_count": 54,
   "metadata": {
    "collapsed": false
   },
   "outputs": [
    {
     "data": {
      "text/plain": [
       "432392"
      ]
     },
     "execution_count": 54,
     "metadata": {},
     "output_type": "execute_result"
    }
   ],
   "source": [
    "len(cast[(cast.n.isnull()) & (cast.year <= 1980)])"
   ]
  },
  {
   "cell_type": "code",
   "execution_count": null,
   "metadata": {
    "collapsed": true
   },
   "outputs": [],
   "source": []
  }
 ],
 "metadata": {
  "kernelspec": {
   "display_name": "Python 2",
   "language": "python",
   "name": "python2"
  },
  "language_info": {
   "codemirror_mode": {
    "name": "ipython",
    "version": 2
   },
   "file_extension": ".py",
   "mimetype": "text/x-python",
   "name": "python",
   "nbconvert_exporter": "python",
   "pygments_lexer": "ipython2",
   "version": "2.7.11"
  }
 },
 "nbformat": 4,
 "nbformat_minor": 0
}
