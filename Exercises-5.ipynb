{
 "cells": [
  {
   "cell_type": "code",
   "execution_count": 4,
   "metadata": {
    "collapsed": false
   },
   "outputs": [],
   "source": [
    "%matplotlib inline\n",
    "import pandas as pd\n",
    "import matplotlib.pyplot as plt\n",
    "import seaborn as sns"
   ]
  },
  {
   "cell_type": "code",
   "execution_count": 5,
   "metadata": {
    "collapsed": false
   },
   "outputs": [
    {
     "data": {
      "text/html": [
       "<style>body {\n",
       "    margin: 0;\n",
       "    font-family: Helvetica;\n",
       "}\n",
       "table.dataframe {\n",
       "    border-collapse: collapse;\n",
       "    border: none;\n",
       "}\n",
       "table.dataframe tr {\n",
       "    border: none;\n",
       "}\n",
       "table.dataframe td, table.dataframe th {\n",
       "    margin: 0;\n",
       "    border: 1px solid white;\n",
       "    padding-left: 0.25em;\n",
       "    padding-right: 0.25em;\n",
       "}\n",
       "table.dataframe th:not(:empty) {\n",
       "    background-color: #fec;\n",
       "    text-align: left;\n",
       "    font-weight: normal;\n",
       "}\n",
       "table.dataframe tr:nth-child(2) th:empty {\n",
       "    border-left: none;\n",
       "    border-right: 1px dashed #888;\n",
       "}\n",
       "table.dataframe td {\n",
       "    border: 2px solid #ccf;\n",
       "    background-color: #f4f4ff;\n",
       "}\n",
       "h3 {\n",
       "    color: white;\n",
       "    background-color: black;\n",
       "    padding: 0.5em;\n",
       "}\n",
       "</style>"
      ],
      "text/plain": [
       "<IPython.core.display.HTML object>"
      ]
     },
     "execution_count": 5,
     "metadata": {},
     "output_type": "execute_result"
    }
   ],
   "source": [
    "from IPython.core.display import HTML\n",
    "css = open('style-table.css').read() + open('style-notebook.css').read()\n",
    "HTML('<style>{}</style>'.format(css))"
   ]
  },
  {
   "cell_type": "code",
   "execution_count": 6,
   "metadata": {
    "collapsed": false
   },
   "outputs": [
    {
     "data": {
      "text/html": [
       "<div>\n",
       "<table border=\"1\" class=\"dataframe\">\n",
       "  <thead>\n",
       "    <tr style=\"text-align: right;\">\n",
       "      <th></th>\n",
       "      <th>title</th>\n",
       "      <th>year</th>\n",
       "      <th>name</th>\n",
       "      <th>type</th>\n",
       "      <th>character</th>\n",
       "      <th>n</th>\n",
       "    </tr>\n",
       "  </thead>\n",
       "  <tbody>\n",
       "    <tr>\n",
       "      <th>0</th>\n",
       "      <td>Suuri illusioni</td>\n",
       "      <td>1985</td>\n",
       "      <td>Homo $</td>\n",
       "      <td>actor</td>\n",
       "      <td>Guests</td>\n",
       "      <td>22.0</td>\n",
       "    </tr>\n",
       "    <tr>\n",
       "      <th>1</th>\n",
       "      <td>Battle of the Sexes</td>\n",
       "      <td>2017</td>\n",
       "      <td>$hutter</td>\n",
       "      <td>actor</td>\n",
       "      <td>Bobby Riggs Fan</td>\n",
       "      <td>10.0</td>\n",
       "    </tr>\n",
       "    <tr>\n",
       "      <th>2</th>\n",
       "      <td>Secret in Their Eyes</td>\n",
       "      <td>2015</td>\n",
       "      <td>$hutter</td>\n",
       "      <td>actor</td>\n",
       "      <td>2002 Dodger Fan</td>\n",
       "      <td>NaN</td>\n",
       "    </tr>\n",
       "    <tr>\n",
       "      <th>3</th>\n",
       "      <td>Steve Jobs</td>\n",
       "      <td>2015</td>\n",
       "      <td>$hutter</td>\n",
       "      <td>actor</td>\n",
       "      <td>1988 Opera House Patron</td>\n",
       "      <td>NaN</td>\n",
       "    </tr>\n",
       "    <tr>\n",
       "      <th>4</th>\n",
       "      <td>Straight Outta Compton</td>\n",
       "      <td>2015</td>\n",
       "      <td>$hutter</td>\n",
       "      <td>actor</td>\n",
       "      <td>Club Patron</td>\n",
       "      <td>NaN</td>\n",
       "    </tr>\n",
       "  </tbody>\n",
       "</table>\n",
       "</div>"
      ],
      "text/plain": [
       "                    title  year     name   type                character     n\n",
       "0         Suuri illusioni  1985   Homo $  actor                   Guests  22.0\n",
       "1     Battle of the Sexes  2017  $hutter  actor          Bobby Riggs Fan  10.0\n",
       "2    Secret in Their Eyes  2015  $hutter  actor          2002 Dodger Fan   NaN\n",
       "3              Steve Jobs  2015  $hutter  actor  1988 Opera House Patron   NaN\n",
       "4  Straight Outta Compton  2015  $hutter  actor              Club Patron   NaN"
      ]
     },
     "execution_count": 6,
     "metadata": {},
     "output_type": "execute_result"
    }
   ],
   "source": [
    "cast = pd.DataFrame.from_csv('data/cast.csv', index_col=None)\n",
    "cast.head()"
   ]
  },
  {
   "cell_type": "code",
   "execution_count": 7,
   "metadata": {
    "collapsed": false
   },
   "outputs": [
    {
     "data": {
      "text/html": [
       "<div>\n",
       "<table border=\"1\" class=\"dataframe\">\n",
       "  <thead>\n",
       "    <tr style=\"text-align: right;\">\n",
       "      <th></th>\n",
       "      <th>title</th>\n",
       "      <th>year</th>\n",
       "      <th>country</th>\n",
       "      <th>date</th>\n",
       "    </tr>\n",
       "  </thead>\n",
       "  <tbody>\n",
       "    <tr>\n",
       "      <th>0</th>\n",
       "      <td>#73, Shaanthi Nivaasa</td>\n",
       "      <td>2007</td>\n",
       "      <td>India</td>\n",
       "      <td>2007-06-15</td>\n",
       "    </tr>\n",
       "    <tr>\n",
       "      <th>1</th>\n",
       "      <td>#Beings</td>\n",
       "      <td>2015</td>\n",
       "      <td>Romania</td>\n",
       "      <td>2015-01-29</td>\n",
       "    </tr>\n",
       "    <tr>\n",
       "      <th>2</th>\n",
       "      <td>#Ewankosau saranghaeyo</td>\n",
       "      <td>2015</td>\n",
       "      <td>Philippines</td>\n",
       "      <td>2015-01-21</td>\n",
       "    </tr>\n",
       "    <tr>\n",
       "      <th>3</th>\n",
       "      <td>#Horror</td>\n",
       "      <td>2015</td>\n",
       "      <td>USA</td>\n",
       "      <td>2015-11-20</td>\n",
       "    </tr>\n",
       "    <tr>\n",
       "      <th>4</th>\n",
       "      <td>#Horror</td>\n",
       "      <td>2015</td>\n",
       "      <td>UK</td>\n",
       "      <td>2016-05-16</td>\n",
       "    </tr>\n",
       "  </tbody>\n",
       "</table>\n",
       "</div>"
      ],
      "text/plain": [
       "                    title  year      country       date\n",
       "0   #73, Shaanthi Nivaasa  2007        India 2007-06-15\n",
       "1                 #Beings  2015      Romania 2015-01-29\n",
       "2  #Ewankosau saranghaeyo  2015  Philippines 2015-01-21\n",
       "3                 #Horror  2015          USA 2015-11-20\n",
       "4                 #Horror  2015           UK 2016-05-16"
      ]
     },
     "execution_count": 7,
     "metadata": {},
     "output_type": "execute_result"
    }
   ],
   "source": [
    "release_dates = pd.DataFrame.from_csv('data/release_dates.csv', index_col=None,\n",
    "                                      parse_dates=['date'], infer_datetime_format=True)\n",
    "release_dates.head()"
   ]
  },
  {
   "cell_type": "code",
   "execution_count": null,
   "metadata": {
    "collapsed": true
   },
   "outputs": [],
   "source": []
  },
  {
   "cell_type": "markdown",
   "metadata": {
    "collapsed": true
   },
   "source": [
    "### Make a bar plot of the months in which movies with \"Christmas\" in their title tend to be released in the USA."
   ]
  },
  {
   "cell_type": "code",
   "execution_count": 8,
   "metadata": {
    "collapsed": false
   },
   "outputs": [
    {
     "data": {
      "text/html": [
       "<div>\n",
       "<table border=\"1\" class=\"dataframe\">\n",
       "  <thead>\n",
       "    <tr style=\"text-align: right;\">\n",
       "      <th></th>\n",
       "      <th>title</th>\n",
       "      <th>year</th>\n",
       "      <th>country</th>\n",
       "      <th>date</th>\n",
       "    </tr>\n",
       "  </thead>\n",
       "  <tbody>\n",
       "    <tr>\n",
       "      <th>1136</th>\n",
       "      <td>12 Dog Days of Christmas</td>\n",
       "      <td>2014</td>\n",
       "      <td>USA</td>\n",
       "      <td>2014-11-28</td>\n",
       "    </tr>\n",
       "    <tr>\n",
       "      <th>1137</th>\n",
       "      <td>12 Dogs of Christmas: Great Puppy Rescue</td>\n",
       "      <td>2012</td>\n",
       "      <td>USA</td>\n",
       "      <td>2012-10-09</td>\n",
       "    </tr>\n",
       "    <tr>\n",
       "      <th>5728</th>\n",
       "      <td>A Belle for Christmas</td>\n",
       "      <td>2014</td>\n",
       "      <td>USA</td>\n",
       "      <td>2014-11-04</td>\n",
       "    </tr>\n",
       "    <tr>\n",
       "      <th>5729</th>\n",
       "      <td>A Belle for Christmas</td>\n",
       "      <td>2014</td>\n",
       "      <td>France</td>\n",
       "      <td>2014-12-26</td>\n",
       "    </tr>\n",
       "    <tr>\n",
       "      <th>5941</th>\n",
       "      <td>A Bulldog for Christmas</td>\n",
       "      <td>2013</td>\n",
       "      <td>UK</td>\n",
       "      <td>2014-11-03</td>\n",
       "    </tr>\n",
       "  </tbody>\n",
       "</table>\n",
       "</div>"
      ],
      "text/plain": [
       "                                         title  year country       date\n",
       "1136                  12 Dog Days of Christmas  2014     USA 2014-11-28\n",
       "1137  12 Dogs of Christmas: Great Puppy Rescue  2012     USA 2012-10-09\n",
       "5728                     A Belle for Christmas  2014     USA 2014-11-04\n",
       "5729                     A Belle for Christmas  2014  France 2014-12-26\n",
       "5941                   A Bulldog for Christmas  2013      UK 2014-11-03"
      ]
     },
     "execution_count": 8,
     "metadata": {},
     "output_type": "execute_result"
    }
   ],
   "source": [
    "christmas = release_dates[release_dates.title.str.contains(\"Christmas\")]\n",
    "christmas.head()"
   ]
  },
  {
   "cell_type": "code",
   "execution_count": 9,
   "metadata": {
    "collapsed": false
   },
   "outputs": [
    {
     "data": {
      "text/plain": [
       "601"
      ]
     },
     "execution_count": 9,
     "metadata": {},
     "output_type": "execute_result"
    }
   ],
   "source": [
    "len(christmas)"
   ]
  },
  {
   "cell_type": "code",
   "execution_count": 10,
   "metadata": {
    "collapsed": false
   },
   "outputs": [
    {
     "data": {
      "text/plain": [
       "<matplotlib.axes._subplots.AxesSubplot at 0x131f14410>"
      ]
     },
     "execution_count": 10,
     "metadata": {},
     "output_type": "execute_result"
    },
    {
     "data": {
      "image/png": "[encoded data removed]",
      "text/plain": [
       "<matplotlib.figure.Figure at 0x116b10110>"
      ]
     },
     "metadata": {},
     "output_type": "display_data"
    }
   ],
   "source": [
    "christmas.date.dt.month.value_counts().sort_index().plot(kind='bar')"
   ]
  },
  {
   "cell_type": "code",
   "execution_count": null,
   "metadata": {
    "collapsed": true
   },
   "outputs": [],
   "source": []
  },
  {
   "cell_type": "code",
   "execution_count": null,
   "metadata": {
    "collapsed": true
   },
   "outputs": [],
   "source": []
  },
  {
   "cell_type": "markdown",
   "metadata": {
    "collapsed": true
   },
   "source": [
    "### Make a bar plot of the months in which movies whose titles start with \"The Hobbit\" are released in the USA."
   ]
  },
  {
   "cell_type": "code",
   "execution_count": 11,
   "metadata": {
    "collapsed": false
   },
   "outputs": [
    {
     "data": {
      "text/html": [
       "<div>\n",
       "<table border=\"1\" class=\"dataframe\">\n",
       "  <thead>\n",
       "    <tr style=\"text-align: right;\">\n",
       "      <th></th>\n",
       "      <th>title</th>\n",
       "      <th>year</th>\n",
       "      <th>country</th>\n",
       "      <th>date</th>\n",
       "    </tr>\n",
       "  </thead>\n",
       "  <tbody>\n",
       "    <tr>\n",
       "      <th>352876</th>\n",
       "      <td>The Hobbit: An Unexpected Journey</td>\n",
       "      <td>2012</td>\n",
       "      <td>Belgium</td>\n",
       "      <td>2012-12-12</td>\n",
       "    </tr>\n",
       "    <tr>\n",
       "      <th>352877</th>\n",
       "      <td>The Hobbit: An Unexpected Journey</td>\n",
       "      <td>2012</td>\n",
       "      <td>Denmark</td>\n",
       "      <td>2012-12-12</td>\n",
       "    </tr>\n",
       "    <tr>\n",
       "      <th>352878</th>\n",
       "      <td>The Hobbit: An Unexpected Journey</td>\n",
       "      <td>2012</td>\n",
       "      <td>Finland</td>\n",
       "      <td>2012-12-12</td>\n",
       "    </tr>\n",
       "    <tr>\n",
       "      <th>352879</th>\n",
       "      <td>The Hobbit: An Unexpected Journey</td>\n",
       "      <td>2012</td>\n",
       "      <td>France</td>\n",
       "      <td>2012-12-12</td>\n",
       "    </tr>\n",
       "    <tr>\n",
       "      <th>352880</th>\n",
       "      <td>The Hobbit: An Unexpected Journey</td>\n",
       "      <td>2012</td>\n",
       "      <td>Netherlands</td>\n",
       "      <td>2012-12-12</td>\n",
       "    </tr>\n",
       "  </tbody>\n",
       "</table>\n",
       "</div>"
      ],
      "text/plain": [
       "                                    title  year      country       date\n",
       "352876  The Hobbit: An Unexpected Journey  2012      Belgium 2012-12-12\n",
       "352877  The Hobbit: An Unexpected Journey  2012      Denmark 2012-12-12\n",
       "352878  The Hobbit: An Unexpected Journey  2012      Finland 2012-12-12\n",
       "352879  The Hobbit: An Unexpected Journey  2012       France 2012-12-12\n",
       "352880  The Hobbit: An Unexpected Journey  2012  Netherlands 2012-12-12"
      ]
     },
     "execution_count": 11,
     "metadata": {},
     "output_type": "execute_result"
    }
   ],
   "source": [
    "hobbit = release_dates[release_dates.title.str.startswith(\"The Hobbit\")]\n",
    "hobbit.head()"
   ]
  },
  {
   "cell_type": "code",
   "execution_count": 12,
   "metadata": {
    "collapsed": false
   },
   "outputs": [
    {
     "data": {
      "text/plain": [
       "<matplotlib.axes._subplots.AxesSubplot at 0x1176afa50>"
      ]
     },
     "execution_count": 12,
     "metadata": {},
     "output_type": "execute_result"
    },
    {
     "data": {
      "image/png": "[encoded data removed]",
      "text/plain": [
       "<matplotlib.figure.Figure at 0x117016f90>"
      ]
     },
     "metadata": {},
     "output_type": "display_data"
    }
   ],
   "source": [
    "hobbit.date.dt.month.value_counts().sort_index().plot(kind='bar')"
   ]
  },
  {
   "cell_type": "code",
   "execution_count": null,
   "metadata": {
    "collapsed": true
   },
   "outputs": [],
   "source": []
  },
  {
   "cell_type": "code",
   "execution_count": null,
   "metadata": {
    "collapsed": true
   },
   "outputs": [],
   "source": []
  },
  {
   "cell_type": "markdown",
   "metadata": {
    "collapsed": true
   },
   "source": [
    "### Make a bar plot of the day of the week on which movies with \"Romance\" in their title tend to be released in the USA."
   ]
  },
  {
   "cell_type": "code",
   "execution_count": 13,
   "metadata": {
    "collapsed": true
   },
   "outputs": [],
   "source": [
    "romance = release_dates[release_dates.title.str.contains(\"Romance\")]"
   ]
  },
  {
   "cell_type": "code",
   "execution_count": 14,
   "metadata": {
    "collapsed": false
   },
   "outputs": [
    {
     "data": {
      "text/html": [
       "<div>\n",
       "<table border=\"1\" class=\"dataframe\">\n",
       "  <thead>\n",
       "    <tr style=\"text-align: right;\">\n",
       "      <th></th>\n",
       "      <th>title</th>\n",
       "      <th>year</th>\n",
       "      <th>country</th>\n",
       "      <th>date</th>\n",
       "    </tr>\n",
       "  </thead>\n",
       "  <tbody>\n",
       "    <tr>\n",
       "      <th>872</th>\n",
       "      <td>100% OFF: A Recession-Era Romance</td>\n",
       "      <td>2012</td>\n",
       "      <td>USA</td>\n",
       "      <td>2012-07-04</td>\n",
       "    </tr>\n",
       "    <tr>\n",
       "      <th>5806</th>\n",
       "      <td>A Blue Gum Romance</td>\n",
       "      <td>1913</td>\n",
       "      <td>Australia</td>\n",
       "      <td>1913-09-20</td>\n",
       "    </tr>\n",
       "    <tr>\n",
       "      <th>5985</th>\n",
       "      <td>A California Romance</td>\n",
       "      <td>1922</td>\n",
       "      <td>USA</td>\n",
       "      <td>1922-12-24</td>\n",
       "    </tr>\n",
       "    <tr>\n",
       "      <th>6218</th>\n",
       "      <td>A Circus Romance</td>\n",
       "      <td>1916</td>\n",
       "      <td>USA</td>\n",
       "      <td>1916-01-24</td>\n",
       "    </tr>\n",
       "    <tr>\n",
       "      <th>6347</th>\n",
       "      <td>A Crooked Romance</td>\n",
       "      <td>1917</td>\n",
       "      <td>USA</td>\n",
       "      <td>1917-09-30</td>\n",
       "    </tr>\n",
       "  </tbody>\n",
       "</table>\n",
       "</div>"
      ],
      "text/plain": [
       "                                  title  year    country       date\n",
       "872   100% OFF: A Recession-Era Romance  2012        USA 2012-07-04\n",
       "5806                 A Blue Gum Romance  1913  Australia 1913-09-20\n",
       "5985               A California Romance  1922        USA 1922-12-24\n",
       "6218                   A Circus Romance  1916        USA 1916-01-24\n",
       "6347                  A Crooked Romance  1917        USA 1917-09-30"
      ]
     },
     "execution_count": 14,
     "metadata": {},
     "output_type": "execute_result"
    }
   ],
   "source": [
    "romance.head()"
   ]
  },
  {
   "cell_type": "code",
   "execution_count": 15,
   "metadata": {
    "collapsed": false
   },
   "outputs": [
    {
     "data": {
      "text/plain": [
       "<matplotlib.axes._subplots.AxesSubplot at 0x1167a26d0>"
      ]
     },
     "execution_count": 15,
     "metadata": {},
     "output_type": "execute_result"
    },
    {
     "data": {
      "image/png": "[encoded data removed]",
      "text/plain": [
       "<matplotlib.figure.Figure at 0x1167998d0>"
      ]
     },
     "metadata": {},
     "output_type": "display_data"
    }
   ],
   "source": [
    "romance.date.dt.dayofweek.value_counts().sort_index().plot(kind='bar')"
   ]
  },
  {
   "cell_type": "code",
   "execution_count": null,
   "metadata": {
    "collapsed": true
   },
   "outputs": [],
   "source": []
  },
  {
   "cell_type": "markdown",
   "metadata": {
    "collapsed": true
   },
   "source": [
    "### Make a bar plot of the day of the week on which movies with \"Action\" in their title tend to be released in the USA."
   ]
  },
  {
   "cell_type": "code",
   "execution_count": 16,
   "metadata": {
    "collapsed": false
   },
   "outputs": [
    {
     "data": {
      "text/html": [
       "<div>\n",
       "<table border=\"1\" class=\"dataframe\">\n",
       "  <thead>\n",
       "    <tr style=\"text-align: right;\">\n",
       "      <th></th>\n",
       "      <th>title</th>\n",
       "      <th>year</th>\n",
       "      <th>country</th>\n",
       "      <th>date</th>\n",
       "    </tr>\n",
       "  </thead>\n",
       "  <tbody>\n",
       "    <tr>\n",
       "      <th>6221</th>\n",
       "      <td>A Civil Action</td>\n",
       "      <td>1998</td>\n",
       "      <td>USA</td>\n",
       "      <td>1999-01-08</td>\n",
       "    </tr>\n",
       "    <tr>\n",
       "      <th>6222</th>\n",
       "      <td>A Civil Action</td>\n",
       "      <td>1998</td>\n",
       "      <td>Austria</td>\n",
       "      <td>1999-03-05</td>\n",
       "    </tr>\n",
       "    <tr>\n",
       "      <th>6223</th>\n",
       "      <td>A Civil Action</td>\n",
       "      <td>1998</td>\n",
       "      <td>Czech Republic</td>\n",
       "      <td>1999-03-11</td>\n",
       "    </tr>\n",
       "    <tr>\n",
       "      <th>6224</th>\n",
       "      <td>A Civil Action</td>\n",
       "      <td>1998</td>\n",
       "      <td>Iceland</td>\n",
       "      <td>1999-04-09</td>\n",
       "    </tr>\n",
       "    <tr>\n",
       "      <th>6225</th>\n",
       "      <td>A Civil Action</td>\n",
       "      <td>1998</td>\n",
       "      <td>Ireland</td>\n",
       "      <td>1999-04-09</td>\n",
       "    </tr>\n",
       "  </tbody>\n",
       "</table>\n",
       "</div>"
      ],
      "text/plain": [
       "               title  year         country       date\n",
       "6221  A Civil Action  1998             USA 1999-01-08\n",
       "6222  A Civil Action  1998         Austria 1999-03-05\n",
       "6223  A Civil Action  1998  Czech Republic 1999-03-11\n",
       "6224  A Civil Action  1998         Iceland 1999-04-09\n",
       "6225  A Civil Action  1998         Ireland 1999-04-09"
      ]
     },
     "execution_count": 16,
     "metadata": {},
     "output_type": "execute_result"
    }
   ],
   "source": [
    "action = release_dates[release_dates.title.str.contains(\"Action\")]\n",
    "action.head()"
   ]
  },
  {
   "cell_type": "code",
   "execution_count": 17,
   "metadata": {
    "collapsed": false
   },
   "outputs": [
    {
     "data": {
      "text/plain": [
       "<matplotlib.axes._subplots.AxesSubplot at 0x1162bd450>"
      ]
     },
     "execution_count": 17,
     "metadata": {},
     "output_type": "execute_result"
    },
    {
     "data": {
      "image/png": "[encoded data removed]",
      "text/plain": [
       "<matplotlib.figure.Figure at 0x116bb6a90>"
      ]
     },
     "metadata": {},
     "output_type": "display_data"
    }
   ],
   "source": [
    "action.date.dt.dayofweek.value_counts().sort_index().plot(kind='bar')"
   ]
  },
  {
   "cell_type": "markdown",
   "metadata": {
    "collapsed": true
   },
   "source": [
    "### On which date was each Judi Dench movie from the 1990s released in the USA?"
   ]
  },
  {
   "cell_type": "code",
   "execution_count": 18,
   "metadata": {
    "collapsed": false
   },
   "outputs": [
    {
     "data": {
      "text/html": [
       "<div>\n",
       "<table border=\"1\" class=\"dataframe\">\n",
       "  <thead>\n",
       "    <tr style=\"text-align: right;\">\n",
       "      <th></th>\n",
       "      <th>title</th>\n",
       "      <th>year</th>\n",
       "      <th>name</th>\n",
       "      <th>type</th>\n",
       "      <th>character</th>\n",
       "      <th>n</th>\n",
       "    </tr>\n",
       "  </thead>\n",
       "  <tbody>\n",
       "    <tr>\n",
       "      <th>2625139</th>\n",
       "      <td>84 Charing Cross Road</td>\n",
       "      <td>1987</td>\n",
       "      <td>Judi Dench</td>\n",
       "      <td>actress</td>\n",
       "      <td>Nora Doel</td>\n",
       "      <td>3.0</td>\n",
       "    </tr>\n",
       "    <tr>\n",
       "      <th>2625140</th>\n",
       "      <td>A Handful of Dust</td>\n",
       "      <td>1988</td>\n",
       "      <td>Judi Dench</td>\n",
       "      <td>actress</td>\n",
       "      <td>Mrs. Beaver</td>\n",
       "      <td>13.0</td>\n",
       "    </tr>\n",
       "    <tr>\n",
       "      <th>2625141</th>\n",
       "      <td>A Midsummer Night's Dream</td>\n",
       "      <td>1968</td>\n",
       "      <td>Judi Dench</td>\n",
       "      <td>actress</td>\n",
       "      <td>Titania</td>\n",
       "      <td>16.0</td>\n",
       "    </tr>\n",
       "    <tr>\n",
       "      <th>2625142</th>\n",
       "      <td>A Room with a View</td>\n",
       "      <td>1985</td>\n",
       "      <td>Judi Dench</td>\n",
       "      <td>actress</td>\n",
       "      <td>Eleanor Lavish, a novelist</td>\n",
       "      <td>7.0</td>\n",
       "    </tr>\n",
       "    <tr>\n",
       "      <th>2625143</th>\n",
       "      <td>A Study in Terror</td>\n",
       "      <td>1965</td>\n",
       "      <td>Judi Dench</td>\n",
       "      <td>actress</td>\n",
       "      <td>Sally</td>\n",
       "      <td>8.0</td>\n",
       "    </tr>\n",
       "  </tbody>\n",
       "</table>\n",
       "</div>"
      ],
      "text/plain": [
       "                             title  year        name     type  \\\n",
       "2625139      84 Charing Cross Road  1987  Judi Dench  actress   \n",
       "2625140          A Handful of Dust  1988  Judi Dench  actress   \n",
       "2625141  A Midsummer Night's Dream  1968  Judi Dench  actress   \n",
       "2625142         A Room with a View  1985  Judi Dench  actress   \n",
       "2625143          A Study in Terror  1965  Judi Dench  actress   \n",
       "\n",
       "                          character     n  \n",
       "2625139                   Nora Doel   3.0  \n",
       "2625140                 Mrs. Beaver  13.0  \n",
       "2625141                     Titania  16.0  \n",
       "2625142  Eleanor Lavish, a novelist   7.0  \n",
       "2625143                       Sally   8.0  "
      ]
     },
     "execution_count": 18,
     "metadata": {},
     "output_type": "execute_result"
    }
   ],
   "source": [
    "dench = cast[cast.name==\"Judi Dench\"]\n",
    "dench.head()"
   ]
  },
  {
   "cell_type": "code",
   "execution_count": 19,
   "metadata": {
    "collapsed": false
   },
   "outputs": [
    {
     "data": {
      "text/html": [
       "<div>\n",
       "<table border=\"1\" class=\"dataframe\">\n",
       "  <thead>\n",
       "    <tr style=\"text-align: right;\">\n",
       "      <th></th>\n",
       "      <th>title</th>\n",
       "      <th>year</th>\n",
       "      <th>name</th>\n",
       "      <th>type</th>\n",
       "      <th>character</th>\n",
       "      <th>n</th>\n",
       "      <th>country</th>\n",
       "      <th>date</th>\n",
       "    </tr>\n",
       "  </thead>\n",
       "  <tbody>\n",
       "    <tr>\n",
       "      <th>0</th>\n",
       "      <td>84 Charing Cross Road</td>\n",
       "      <td>1987</td>\n",
       "      <td>Judi Dench</td>\n",
       "      <td>actress</td>\n",
       "      <td>Nora Doel</td>\n",
       "      <td>3.0</td>\n",
       "      <td>USA</td>\n",
       "      <td>1987-02-13</td>\n",
       "    </tr>\n",
       "    <tr>\n",
       "      <th>7</th>\n",
       "      <td>A Handful of Dust</td>\n",
       "      <td>1988</td>\n",
       "      <td>Judi Dench</td>\n",
       "      <td>actress</td>\n",
       "      <td>Mrs. Beaver</td>\n",
       "      <td>13.0</td>\n",
       "      <td>USA</td>\n",
       "      <td>1988-06-24</td>\n",
       "    </tr>\n",
       "    <tr>\n",
       "      <th>34</th>\n",
       "      <td>A Study in Terror</td>\n",
       "      <td>1965</td>\n",
       "      <td>Judi Dench</td>\n",
       "      <td>actress</td>\n",
       "      <td>Sally</td>\n",
       "      <td>8.0</td>\n",
       "      <td>USA</td>\n",
       "      <td>1966-08-10</td>\n",
       "    </tr>\n",
       "    <tr>\n",
       "      <th>68</th>\n",
       "      <td>Casino Royale</td>\n",
       "      <td>2006</td>\n",
       "      <td>Judi Dench</td>\n",
       "      <td>actress</td>\n",
       "      <td>M</td>\n",
       "      <td>4.0</td>\n",
       "      <td>USA</td>\n",
       "      <td>2006-11-17</td>\n",
       "    </tr>\n",
       "    <tr>\n",
       "      <th>109</th>\n",
       "      <td>Chocolat</td>\n",
       "      <td>2000</td>\n",
       "      <td>Judi Dench</td>\n",
       "      <td>actress</td>\n",
       "      <td>Armande Voizin</td>\n",
       "      <td>18.0</td>\n",
       "      <td>USA</td>\n",
       "      <td>2001-01-19</td>\n",
       "    </tr>\n",
       "    <tr>\n",
       "      <th>161</th>\n",
       "      <td>Die Another Day</td>\n",
       "      <td>2002</td>\n",
       "      <td>Judi Dench</td>\n",
       "      <td>actress</td>\n",
       "      <td>M</td>\n",
       "      <td>6.0</td>\n",
       "      <td>USA</td>\n",
       "      <td>2002-11-22</td>\n",
       "    </tr>\n",
       "    <tr>\n",
       "      <th>217</th>\n",
       "      <td>Doogal</td>\n",
       "      <td>2006</td>\n",
       "      <td>Judi Dench</td>\n",
       "      <td>actress</td>\n",
       "      <td>Narrator</td>\n",
       "      <td>7.0</td>\n",
       "      <td>USA</td>\n",
       "      <td>2006-02-24</td>\n",
       "    </tr>\n",
       "    <tr>\n",
       "      <th>225</th>\n",
       "      <td>GoldenEye</td>\n",
       "      <td>1995</td>\n",
       "      <td>Judi Dench</td>\n",
       "      <td>actress</td>\n",
       "      <td>M</td>\n",
       "      <td>6.0</td>\n",
       "      <td>USA</td>\n",
       "      <td>1995-11-17</td>\n",
       "    </tr>\n",
       "    <tr>\n",
       "      <th>264</th>\n",
       "      <td>Hamlet</td>\n",
       "      <td>1996</td>\n",
       "      <td>Judi Dench</td>\n",
       "      <td>actress</td>\n",
       "      <td>Hecuba</td>\n",
       "      <td>12.0</td>\n",
       "      <td>USA</td>\n",
       "      <td>1996-12-25</td>\n",
       "    </tr>\n",
       "    <tr>\n",
       "      <th>288</th>\n",
       "      <td>Henry V</td>\n",
       "      <td>1989</td>\n",
       "      <td>Judi Dench</td>\n",
       "      <td>actress</td>\n",
       "      <td>Mistress Nell Quickly</td>\n",
       "      <td>26.0</td>\n",
       "      <td>USA</td>\n",
       "      <td>1989-11-08</td>\n",
       "    </tr>\n",
       "    <tr>\n",
       "      <th>299</th>\n",
       "      <td>Home on the Range</td>\n",
       "      <td>2004</td>\n",
       "      <td>Judi Dench</td>\n",
       "      <td>actress</td>\n",
       "      <td>Mrs. Caloway</td>\n",
       "      <td>7.0</td>\n",
       "      <td>USA</td>\n",
       "      <td>2004-04-02</td>\n",
       "    </tr>\n",
       "    <tr>\n",
       "      <th>351</th>\n",
       "      <td>Iris</td>\n",
       "      <td>2001</td>\n",
       "      <td>Judi Dench</td>\n",
       "      <td>actress</td>\n",
       "      <td>Iris Murdoch</td>\n",
       "      <td>3.0</td>\n",
       "      <td>USA</td>\n",
       "      <td>2002-03-29</td>\n",
       "    </tr>\n",
       "    <tr>\n",
       "      <th>371</th>\n",
       "      <td>J. Edgar</td>\n",
       "      <td>2011</td>\n",
       "      <td>Judi Dench</td>\n",
       "      <td>actress</td>\n",
       "      <td>Annie Hoover</td>\n",
       "      <td>13.0</td>\n",
       "      <td>USA</td>\n",
       "      <td>2011-11-11</td>\n",
       "    </tr>\n",
       "    <tr>\n",
       "      <th>422</th>\n",
       "      <td>Jack &amp; Sarah</td>\n",
       "      <td>1995</td>\n",
       "      <td>Judi Dench</td>\n",
       "      <td>actress</td>\n",
       "      <td>Margaret</td>\n",
       "      <td>3.0</td>\n",
       "      <td>USA</td>\n",
       "      <td>1996-03-22</td>\n",
       "    </tr>\n",
       "    <tr>\n",
       "      <th>432</th>\n",
       "      <td>Jane Eyre</td>\n",
       "      <td>2011</td>\n",
       "      <td>Judi Dench</td>\n",
       "      <td>actress</td>\n",
       "      <td>Mrs. Fairfax</td>\n",
       "      <td>18.0</td>\n",
       "      <td>USA</td>\n",
       "      <td>2011-04-22</td>\n",
       "    </tr>\n",
       "    <tr>\n",
       "      <th>472</th>\n",
       "      <td>Ladies in Lavender</td>\n",
       "      <td>2004</td>\n",
       "      <td>Judi Dench</td>\n",
       "      <td>actress</td>\n",
       "      <td>Ursula</td>\n",
       "      <td>1.0</td>\n",
       "      <td>USA</td>\n",
       "      <td>2005-05-27</td>\n",
       "    </tr>\n",
       "    <tr>\n",
       "      <th>505</th>\n",
       "      <td>Miss Peregrine's Home for Peculiar Children</td>\n",
       "      <td>2016</td>\n",
       "      <td>Judi Dench</td>\n",
       "      <td>actress</td>\n",
       "      <td>Miss Avocet</td>\n",
       "      <td>NaN</td>\n",
       "      <td>USA</td>\n",
       "      <td>2016-09-30</td>\n",
       "    </tr>\n",
       "    <tr>\n",
       "      <th>517</th>\n",
       "      <td>Mrs Brown</td>\n",
       "      <td>1997</td>\n",
       "      <td>Judi Dench</td>\n",
       "      <td>actress</td>\n",
       "      <td>Queen Victoria</td>\n",
       "      <td>1.0</td>\n",
       "      <td>USA</td>\n",
       "      <td>1997-10-03</td>\n",
       "    </tr>\n",
       "    <tr>\n",
       "      <th>550</th>\n",
       "      <td>Mrs Henderson Presents</td>\n",
       "      <td>2005</td>\n",
       "      <td>Judi Dench</td>\n",
       "      <td>actress</td>\n",
       "      <td>Mrs. Laura Henderson</td>\n",
       "      <td>1.0</td>\n",
       "      <td>USA</td>\n",
       "      <td>2006-02-17</td>\n",
       "    </tr>\n",
       "    <tr>\n",
       "      <th>570</th>\n",
       "      <td>My Week with Marilyn</td>\n",
       "      <td>2011</td>\n",
       "      <td>Judi Dench</td>\n",
       "      <td>actress</td>\n",
       "      <td>Dame Sybil Thorndike</td>\n",
       "      <td>23.0</td>\n",
       "      <td>USA</td>\n",
       "      <td>2011-12-23</td>\n",
       "    </tr>\n",
       "    <tr>\n",
       "      <th>615</th>\n",
       "      <td>Nine</td>\n",
       "      <td>2009</td>\n",
       "      <td>Judi Dench</td>\n",
       "      <td>actress</td>\n",
       "      <td>Lilli</td>\n",
       "      <td>6.0</td>\n",
       "      <td>USA</td>\n",
       "      <td>2009-12-25</td>\n",
       "    </tr>\n",
       "    <tr>\n",
       "      <th>665</th>\n",
       "      <td>Notes on a Scandal</td>\n",
       "      <td>2006</td>\n",
       "      <td>Judi Dench</td>\n",
       "      <td>actress</td>\n",
       "      <td>Barbara Covett</td>\n",
       "      <td>1.0</td>\n",
       "      <td>USA</td>\n",
       "      <td>2007-01-26</td>\n",
       "    </tr>\n",
       "    <tr>\n",
       "      <th>706</th>\n",
       "      <td>Philomena</td>\n",
       "      <td>2013</td>\n",
       "      <td>Judi Dench</td>\n",
       "      <td>actress</td>\n",
       "      <td>Philomena</td>\n",
       "      <td>1.0</td>\n",
       "      <td>USA</td>\n",
       "      <td>2013-11-27</td>\n",
       "    </tr>\n",
       "    <tr>\n",
       "      <th>799</th>\n",
       "      <td>Pirates of the Caribbean: On Stranger Tides</td>\n",
       "      <td>2011</td>\n",
       "      <td>Judi Dench</td>\n",
       "      <td>actress</td>\n",
       "      <td>Society Lady</td>\n",
       "      <td>16.0</td>\n",
       "      <td>USA</td>\n",
       "      <td>2011-05-20</td>\n",
       "    </tr>\n",
       "    <tr>\n",
       "      <th>811</th>\n",
       "      <td>Pride &amp; Prejudice</td>\n",
       "      <td>2005</td>\n",
       "      <td>Judi Dench</td>\n",
       "      <td>actress</td>\n",
       "      <td>Lady Catherine de Bourg</td>\n",
       "      <td>20.0</td>\n",
       "      <td>USA</td>\n",
       "      <td>2005-11-23</td>\n",
       "    </tr>\n",
       "    <tr>\n",
       "      <th>911</th>\n",
       "      <td>Quantum of Solace</td>\n",
       "      <td>2008</td>\n",
       "      <td>Judi Dench</td>\n",
       "      <td>actress</td>\n",
       "      <td>M</td>\n",
       "      <td>4.0</td>\n",
       "      <td>USA</td>\n",
       "      <td>2008-11-14</td>\n",
       "    </tr>\n",
       "    <tr>\n",
       "      <th>924</th>\n",
       "      <td>Shakespeare in Love</td>\n",
       "      <td>1998</td>\n",
       "      <td>Judi Dench</td>\n",
       "      <td>actress</td>\n",
       "      <td>Queen Elizabeth</td>\n",
       "      <td>12.0</td>\n",
       "      <td>USA</td>\n",
       "      <td>1999-01-08</td>\n",
       "    </tr>\n",
       "    <tr>\n",
       "      <th>1039</th>\n",
       "      <td>Skyfall</td>\n",
       "      <td>2012</td>\n",
       "      <td>Judi Dench</td>\n",
       "      <td>actress</td>\n",
       "      <td>M</td>\n",
       "      <td>2.0</td>\n",
       "      <td>USA</td>\n",
       "      <td>2012-11-09</td>\n",
       "    </tr>\n",
       "    <tr>\n",
       "      <th>1106</th>\n",
       "      <td>Spectre</td>\n",
       "      <td>2015</td>\n",
       "      <td>Judi Dench</td>\n",
       "      <td>actress</td>\n",
       "      <td>M</td>\n",
       "      <td>NaN</td>\n",
       "      <td>USA</td>\n",
       "      <td>2015-11-06</td>\n",
       "    </tr>\n",
       "    <tr>\n",
       "      <th>1124</th>\n",
       "      <td>Tea with Mussolini</td>\n",
       "      <td>1999</td>\n",
       "      <td>Judi Dench</td>\n",
       "      <td>actress</td>\n",
       "      <td>Arabella</td>\n",
       "      <td>2.0</td>\n",
       "      <td>USA</td>\n",
       "      <td>1999-05-14</td>\n",
       "    </tr>\n",
       "    <tr>\n",
       "      <th>1190</th>\n",
       "      <td>The Best Exotic Marigold Hotel</td>\n",
       "      <td>2011</td>\n",
       "      <td>Judi Dench</td>\n",
       "      <td>actress</td>\n",
       "      <td>Evelyn Greenslade</td>\n",
       "      <td>1.0</td>\n",
       "      <td>USA</td>\n",
       "      <td>2012-05-25</td>\n",
       "    </tr>\n",
       "    <tr>\n",
       "      <th>1205</th>\n",
       "      <td>The Chronicles of Riddick</td>\n",
       "      <td>2004</td>\n",
       "      <td>Judi Dench</td>\n",
       "      <td>actress</td>\n",
       "      <td>Aereon</td>\n",
       "      <td>4.0</td>\n",
       "      <td>USA</td>\n",
       "      <td>2004-06-11</td>\n",
       "    </tr>\n",
       "    <tr>\n",
       "      <th>1250</th>\n",
       "      <td>The Importance of Being Earnest</td>\n",
       "      <td>2002</td>\n",
       "      <td>Judi Dench</td>\n",
       "      <td>actress</td>\n",
       "      <td>Lady Bracknell</td>\n",
       "      <td>5.0</td>\n",
       "      <td>USA</td>\n",
       "      <td>2002-06-21</td>\n",
       "    </tr>\n",
       "    <tr>\n",
       "      <th>1276</th>\n",
       "      <td>The Second Best Exotic Marigold Hotel</td>\n",
       "      <td>2015</td>\n",
       "      <td>Judi Dench</td>\n",
       "      <td>actress</td>\n",
       "      <td>Evelyn Greenslade</td>\n",
       "      <td>5.0</td>\n",
       "      <td>USA</td>\n",
       "      <td>2015-03-06</td>\n",
       "    </tr>\n",
       "    <tr>\n",
       "      <th>1313</th>\n",
       "      <td>The Shipping News</td>\n",
       "      <td>2001</td>\n",
       "      <td>Judi Dench</td>\n",
       "      <td>actress</td>\n",
       "      <td>Agnis Hamm</td>\n",
       "      <td>3.0</td>\n",
       "      <td>USA</td>\n",
       "      <td>2002-01-18</td>\n",
       "    </tr>\n",
       "    <tr>\n",
       "      <th>1351</th>\n",
       "      <td>The World Is Not Enough</td>\n",
       "      <td>1999</td>\n",
       "      <td>Judi Dench</td>\n",
       "      <td>actress</td>\n",
       "      <td>M</td>\n",
       "      <td>6.0</td>\n",
       "      <td>USA</td>\n",
       "      <td>1999-11-19</td>\n",
       "    </tr>\n",
       "    <tr>\n",
       "      <th>1424</th>\n",
       "      <td>Tomorrow Never Dies</td>\n",
       "      <td>1997</td>\n",
       "      <td>Judi Dench</td>\n",
       "      <td>actress</td>\n",
       "      <td>M</td>\n",
       "      <td>9.0</td>\n",
       "      <td>USA</td>\n",
       "      <td>1997-12-19</td>\n",
       "    </tr>\n",
       "    <tr>\n",
       "      <th>1444</th>\n",
       "      <td>Tulip Fever</td>\n",
       "      <td>2016</td>\n",
       "      <td>Judi Dench</td>\n",
       "      <td>actress</td>\n",
       "      <td>The Abbess of St. Ursula</td>\n",
       "      <td>NaN</td>\n",
       "      <td>USA</td>\n",
       "      <td>2016-07-15</td>\n",
       "    </tr>\n",
       "    <tr>\n",
       "      <th>1448</th>\n",
       "      <td>Wetherby</td>\n",
       "      <td>1985</td>\n",
       "      <td>Judi Dench</td>\n",
       "      <td>actress</td>\n",
       "      <td>Marcia Pilborough</td>\n",
       "      <td>3.0</td>\n",
       "      <td>USA</td>\n",
       "      <td>1985-07-19</td>\n",
       "    </tr>\n",
       "  </tbody>\n",
       "</table>\n",
       "</div>"
      ],
      "text/plain": [
       "                                            title  year        name     type  \\\n",
       "0                           84 Charing Cross Road  1987  Judi Dench  actress   \n",
       "7                               A Handful of Dust  1988  Judi Dench  actress   \n",
       "34                              A Study in Terror  1965  Judi Dench  actress   \n",
       "68                                  Casino Royale  2006  Judi Dench  actress   \n",
       "109                                      Chocolat  2000  Judi Dench  actress   \n",
       "161                               Die Another Day  2002  Judi Dench  actress   \n",
       "217                                        Doogal  2006  Judi Dench  actress   \n",
       "225                                     GoldenEye  1995  Judi Dench  actress   \n",
       "264                                        Hamlet  1996  Judi Dench  actress   \n",
       "288                                       Henry V  1989  Judi Dench  actress   \n",
       "299                             Home on the Range  2004  Judi Dench  actress   \n",
       "351                                          Iris  2001  Judi Dench  actress   \n",
       "371                                      J. Edgar  2011  Judi Dench  actress   \n",
       "422                                  Jack & Sarah  1995  Judi Dench  actress   \n",
       "432                                     Jane Eyre  2011  Judi Dench  actress   \n",
       "472                            Ladies in Lavender  2004  Judi Dench  actress   \n",
       "505   Miss Peregrine's Home for Peculiar Children  2016  Judi Dench  actress   \n",
       "517                                     Mrs Brown  1997  Judi Dench  actress   \n",
       "550                        Mrs Henderson Presents  2005  Judi Dench  actress   \n",
       "570                          My Week with Marilyn  2011  Judi Dench  actress   \n",
       "615                                          Nine  2009  Judi Dench  actress   \n",
       "665                            Notes on a Scandal  2006  Judi Dench  actress   \n",
       "706                                     Philomena  2013  Judi Dench  actress   \n",
       "799   Pirates of the Caribbean: On Stranger Tides  2011  Judi Dench  actress   \n",
       "811                             Pride & Prejudice  2005  Judi Dench  actress   \n",
       "911                             Quantum of Solace  2008  Judi Dench  actress   \n",
       "924                           Shakespeare in Love  1998  Judi Dench  actress   \n",
       "1039                                      Skyfall  2012  Judi Dench  actress   \n",
       "1106                                      Spectre  2015  Judi Dench  actress   \n",
       "1124                           Tea with Mussolini  1999  Judi Dench  actress   \n",
       "1190               The Best Exotic Marigold Hotel  2011  Judi Dench  actress   \n",
       "1205                    The Chronicles of Riddick  2004  Judi Dench  actress   \n",
       "1250              The Importance of Being Earnest  2002  Judi Dench  actress   \n",
       "1276        The Second Best Exotic Marigold Hotel  2015  Judi Dench  actress   \n",
       "1313                            The Shipping News  2001  Judi Dench  actress   \n",
       "1351                      The World Is Not Enough  1999  Judi Dench  actress   \n",
       "1424                          Tomorrow Never Dies  1997  Judi Dench  actress   \n",
       "1444                                  Tulip Fever  2016  Judi Dench  actress   \n",
       "1448                                     Wetherby  1985  Judi Dench  actress   \n",
       "\n",
       "                     character     n country       date  \n",
       "0                    Nora Doel   3.0     USA 1987-02-13  \n",
       "7                  Mrs. Beaver  13.0     USA 1988-06-24  \n",
       "34                       Sally   8.0     USA 1966-08-10  \n",
       "68                           M   4.0     USA 2006-11-17  \n",
       "109             Armande Voizin  18.0     USA 2001-01-19  \n",
       "161                          M   6.0     USA 2002-11-22  \n",
       "217                   Narrator   7.0     USA 2006-02-24  \n",
       "225                          M   6.0     USA 1995-11-17  \n",
       "264                     Hecuba  12.0     USA 1996-12-25  \n",
       "288      Mistress Nell Quickly  26.0     USA 1989-11-08  \n",
       "299               Mrs. Caloway   7.0     USA 2004-04-02  \n",
       "351               Iris Murdoch   3.0     USA 2002-03-29  \n",
       "371               Annie Hoover  13.0     USA 2011-11-11  \n",
       "422                   Margaret   3.0     USA 1996-03-22  \n",
       "432               Mrs. Fairfax  18.0     USA 2011-04-22  \n",
       "472                     Ursula   1.0     USA 2005-05-27  \n",
       "505                Miss Avocet   NaN     USA 2016-09-30  \n",
       "517             Queen Victoria   1.0     USA 1997-10-03  \n",
       "550       Mrs. Laura Henderson   1.0     USA 2006-02-17  \n",
       "570       Dame Sybil Thorndike  23.0     USA 2011-12-23  \n",
       "615                      Lilli   6.0     USA 2009-12-25  \n",
       "665             Barbara Covett   1.0     USA 2007-01-26  \n",
       "706                  Philomena   1.0     USA 2013-11-27  \n",
       "799               Society Lady  16.0     USA 2011-05-20  \n",
       "811    Lady Catherine de Bourg  20.0     USA 2005-11-23  \n",
       "911                          M   4.0     USA 2008-11-14  \n",
       "924            Queen Elizabeth  12.0     USA 1999-01-08  \n",
       "1039                         M   2.0     USA 2012-11-09  \n",
       "1106                         M   NaN     USA 2015-11-06  \n",
       "1124                  Arabella   2.0     USA 1999-05-14  \n",
       "1190         Evelyn Greenslade   1.0     USA 2012-05-25  \n",
       "1205                    Aereon   4.0     USA 2004-06-11  \n",
       "1250            Lady Bracknell   5.0     USA 2002-06-21  \n",
       "1276         Evelyn Greenslade   5.0     USA 2015-03-06  \n",
       "1313                Agnis Hamm   3.0     USA 2002-01-18  \n",
       "1351                         M   6.0     USA 1999-11-19  \n",
       "1424                         M   9.0     USA 1997-12-19  \n",
       "1444  The Abbess of St. Ursula   NaN     USA 2016-07-15  \n",
       "1448         Marcia Pilborough   3.0     USA 1985-07-19  "
      ]
     },
     "execution_count": 19,
     "metadata": {},
     "output_type": "execute_result"
    }
   ],
   "source": [
    "denchreleases = dench.merge(release_dates)\n",
    "denchreleasesUSA = denchreleases[denchreleases.country==\"USA\"]\n",
    "denchreleasesUSA"
   ]
  },
  {
   "cell_type": "code",
   "execution_count": null,
   "metadata": {
    "collapsed": true
   },
   "outputs": [],
   "source": []
  },
  {
   "cell_type": "code",
   "execution_count": null,
   "metadata": {
    "collapsed": true
   },
   "outputs": [],
   "source": []
  },
  {
   "cell_type": "markdown",
   "metadata": {
    "collapsed": true
   },
   "source": [
    "### In which months do films with Judi Dench tend to be released in the USA?"
   ]
  },
  {
   "cell_type": "code",
   "execution_count": 20,
   "metadata": {
    "collapsed": false
   },
   "outputs": [
    {
     "data": {
      "text/plain": [
       "<matplotlib.axes._subplots.AxesSubplot at 0x102b7d1d0>"
      ]
     },
     "execution_count": 20,
     "metadata": {},
     "output_type": "execute_result"
    },
    {
     "data": {
      "image/png": "[encoded data removed]",
      "text/plain": [
       "<matplotlib.figure.Figure at 0x102b7d810>"
      ]
     },
     "metadata": {},
     "output_type": "display_data"
    }
   ],
   "source": [
    "denchreleasesUSA.date.dt.month.value_counts().sort_index().plot(kind='bar')"
   ]
  },
  {
   "cell_type": "code",
   "execution_count": null,
   "metadata": {
    "collapsed": true
   },
   "outputs": [],
   "source": []
  },
  {
   "cell_type": "markdown",
   "metadata": {
    "collapsed": true
   },
   "source": [
    "### In which months do films with Tom Cruise tend to be released in the USA?"
   ]
  },
  {
   "cell_type": "code",
   "execution_count": 21,
   "metadata": {
    "collapsed": false
   },
   "outputs": [
    {
     "data": {
      "text/html": [
       "<div>\n",
       "<table border=\"1\" class=\"dataframe\">\n",
       "  <thead>\n",
       "    <tr style=\"text-align: right;\">\n",
       "      <th></th>\n",
       "      <th>title</th>\n",
       "      <th>year</th>\n",
       "      <th>name</th>\n",
       "      <th>type</th>\n",
       "      <th>character</th>\n",
       "      <th>n</th>\n",
       "      <th>country</th>\n",
       "      <th>date</th>\n",
       "    </tr>\n",
       "  </thead>\n",
       "  <tbody>\n",
       "    <tr>\n",
       "      <th>0</th>\n",
       "      <td>A Few Good Men</td>\n",
       "      <td>1992</td>\n",
       "      <td>Tom Cruise</td>\n",
       "      <td>actor</td>\n",
       "      <td>Lt. Daniel Kaffee</td>\n",
       "      <td>1.0</td>\n",
       "      <td>USA</td>\n",
       "      <td>1992-12-11</td>\n",
       "    </tr>\n",
       "    <tr>\n",
       "      <th>1</th>\n",
       "      <td>All the Right Moves</td>\n",
       "      <td>1983</td>\n",
       "      <td>Tom Cruise</td>\n",
       "      <td>actor</td>\n",
       "      <td>Stefen Djordjevic</td>\n",
       "      <td>1.0</td>\n",
       "      <td>USA</td>\n",
       "      <td>1983-10-21</td>\n",
       "    </tr>\n",
       "    <tr>\n",
       "      <th>2</th>\n",
       "      <td>Austin Powers in Goldmember</td>\n",
       "      <td>2002</td>\n",
       "      <td>Tom Cruise</td>\n",
       "      <td>actor</td>\n",
       "      <td>Himself</td>\n",
       "      <td>81.0</td>\n",
       "      <td>USA</td>\n",
       "      <td>2002-07-26</td>\n",
       "    </tr>\n",
       "    <tr>\n",
       "      <th>3</th>\n",
       "      <td>Austin Powers in Goldmember</td>\n",
       "      <td>2002</td>\n",
       "      <td>Tom Cruise</td>\n",
       "      <td>actor</td>\n",
       "      <td>Famous Austin ('Austinpussy')</td>\n",
       "      <td>81.0</td>\n",
       "      <td>USA</td>\n",
       "      <td>2002-07-26</td>\n",
       "    </tr>\n",
       "    <tr>\n",
       "      <th>4</th>\n",
       "      <td>Born on the Fourth of July</td>\n",
       "      <td>1989</td>\n",
       "      <td>Tom Cruise</td>\n",
       "      <td>actor</td>\n",
       "      <td>Ron Kovic</td>\n",
       "      <td>1.0</td>\n",
       "      <td>USA</td>\n",
       "      <td>1990-01-05</td>\n",
       "    </tr>\n",
       "  </tbody>\n",
       "</table>\n",
       "</div>"
      ],
      "text/plain": [
       "                         title  year        name   type  \\\n",
       "0               A Few Good Men  1992  Tom Cruise  actor   \n",
       "1          All the Right Moves  1983  Tom Cruise  actor   \n",
       "2  Austin Powers in Goldmember  2002  Tom Cruise  actor   \n",
       "3  Austin Powers in Goldmember  2002  Tom Cruise  actor   \n",
       "4   Born on the Fourth of July  1989  Tom Cruise  actor   \n",
       "\n",
       "                       character     n country       date  \n",
       "0              Lt. Daniel Kaffee   1.0     USA 1992-12-11  \n",
       "1              Stefen Djordjevic   1.0     USA 1983-10-21  \n",
       "2                        Himself  81.0     USA 2002-07-26  \n",
       "3  Famous Austin ('Austinpussy')  81.0     USA 2002-07-26  \n",
       "4                      Ron Kovic   1.0     USA 1990-01-05  "
      ]
     },
     "execution_count": 21,
     "metadata": {},
     "output_type": "execute_result"
    }
   ],
   "source": [
    "tomcruise=cast[cast.name==\"Tom Cruise\"]\n",
    "tcreldat=tomcruise.merge(release_dates[release_dates.country==\"USA\"])\n",
    "tcreldat.head()"
   ]
  },
  {
   "cell_type": "code",
   "execution_count": 22,
   "metadata": {
    "collapsed": false
   },
   "outputs": [
    {
     "data": {
      "text/plain": [
       "<matplotlib.axes._subplots.AxesSubplot at 0x11502e110>"
      ]
     },
     "execution_count": 22,
     "metadata": {},
     "output_type": "execute_result"
    },
    {
     "data": {
      "image/png": "[encoded data removed]",
      "text/plain": [
       "<matplotlib.figure.Figure at 0x114f59f50>"
      ]
     },
     "metadata": {},
     "output_type": "display_data"
    }
   ],
   "source": [
    "tcreldat.date.dt.month.value_counts().sort_index().plot(kind='bar')"
   ]
  },
  {
   "cell_type": "code",
   "execution_count": null,
   "metadata": {
    "collapsed": true
   },
   "outputs": [],
   "source": []
  }
 ],
 "metadata": {
  "kernelspec": {
   "display_name": "Python 2",
   "language": "python",
   "name": "python2"
  },
  "language_info": {
   "codemirror_mode": {
    "name": "ipython",
    "version": 2
   },
   "file_extension": ".py",
   "mimetype": "text/x-python",
   "name": "python",
   "nbconvert_exporter": "python",
   "pygments_lexer": "ipython2",
   "version": "2.7.11"
  }
 },
 "nbformat": 4,
 "nbformat_minor": 0
}
